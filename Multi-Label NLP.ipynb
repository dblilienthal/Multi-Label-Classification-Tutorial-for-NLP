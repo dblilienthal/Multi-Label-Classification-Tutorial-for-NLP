{
 "cells": [
  {
   "cell_type": "markdown",
   "id": "612c6580",
   "metadata": {},
   "source": [
    "# Multi-Label Classification for NLP"
   ]
  },
  {
   "cell_type": "markdown",
   "id": "8b51ad2f",
   "metadata": {},
   "source": [
    "The problem we will be solving in this notebook is doing Multi-Label classification where each example can have **zero-to-many** different labels associated with it. This is a different kind of problem to just Multi-Label classification where each example just has **zero-to-one** labels with each example. "
   ]
  },
  {
   "cell_type": "markdown",
   "id": "2fb1113b",
   "metadata": {},
   "source": [
    "**Layout**\n",
    "- Loading and pre-processing the data\n",
    "- Machine Learning for Multi-Label\n",
    "    - Naive Bayes\n",
    "    - Support Vector Machines (SVM)\n",
    "    - Logistic Regression\n",
    "- Using Ensemble Chains\n",
    "- Random Search with Multiclass\n",
    "- Looking at predictions"
   ]
  },
  {
   "cell_type": "markdown",
   "id": "1f891908",
   "metadata": {},
   "source": [
    "Link to data: https://www.kaggle.com/andy8744/isekai-light-novel-titles-and-descriptions"
   ]
  },
  {
   "cell_type": "markdown",
   "id": "783b5929",
   "metadata": {},
   "source": [
    "**About the data**"
   ]
  },
  {
   "cell_type": "markdown",
   "id": "ad31c4bd",
   "metadata": {},
   "source": [
    "Isekai, is a Japanese genre of portal fantasy. It includes novels, light novels, films, manga, anime and video games that revolve around a person or people who are transported to and have to survive in another world, such as a fantasy world, virtual world, another planet, future/past time, or parallel universe. - Wikipedia"
   ]
  },
  {
   "cell_type": "markdown",
   "id": "0a054066",
   "metadata": {},
   "source": [
    "**About the dataset**\n",
    "\n",
    "The data contains multiple genres for each description. So we will be making models to predict all of the genres based on the description. "
   ]
  },
  {
   "cell_type": "markdown",
   "id": "b5be2604",
   "metadata": {},
   "source": [
    "**Imports**"
   ]
  },
  {
   "cell_type": "code",
   "execution_count": 1,
   "id": "56d1b785",
   "metadata": {},
   "outputs": [],
   "source": [
    "import warnings\n",
    "import os\n",
    "import opendatasets as od # Allows us to download the data directly from kaggle\n",
    "import pandas as pd # For loading data\n",
    "import nltk # NLTK stands for Natural Language Took Kit\n",
    "from nltk.corpus import stopwords\n",
    "import re # Regex\n",
    "import string # String library has more string manipulation features\n",
    "import numpy as np # Numerical Python library\n",
    "import matplotlib.pyplot as plt # For graphing\n",
    "import seaborn as sns # For graphing\n",
    "from sklearn.feature_extraction.text import TfidfVectorizer # Tokenizes the data based on a term-frequency-inverse-document algorithm\n",
    "from sklearn.feature_extraction.text import CountVectorizer # Implements tokenization and counts all in one\n",
    "from sklearn.metrics import classification_report, confusion_matrix\n",
    "from sklearn.metrics import multilabel_confusion_matrix"
   ]
  },
  {
   "cell_type": "code",
   "execution_count": 2,
   "id": "a4c2ffcd",
   "metadata": {},
   "outputs": [
    {
     "name": "stderr",
     "output_type": "stream",
     "text": [
      "[nltk_data] Downloading package stopwords to\n",
      "[nltk_data]     C:\\Users\\dlili\\AppData\\Roaming\\nltk_data...\n",
      "[nltk_data]   Package stopwords is already up-to-date!\n"
     ]
    },
    {
     "data": {
      "text/plain": [
       "True"
      ]
     },
     "execution_count": 2,
     "metadata": {},
     "output_type": "execute_result"
    }
   ],
   "source": [
    "nltk.download('stopwords')"
   ]
  },
  {
   "cell_type": "code",
   "execution_count": 3,
   "id": "f396f1b0",
   "metadata": {},
   "outputs": [],
   "source": [
    "warnings.filterwarnings(\"ignore\")"
   ]
  },
  {
   "cell_type": "markdown",
   "id": "bee7e2de",
   "metadata": {},
   "source": [
    "## Loading and pre-processing the data"
   ]
  },
  {
   "cell_type": "markdown",
   "id": "2b78c39a",
   "metadata": {},
   "source": [
    "#### Loading the data from Kaggle"
   ]
  },
  {
   "cell_type": "markdown",
   "id": "ae2f89ef",
   "metadata": {},
   "source": [
    "{\"username\":\"dereklilienthal\",\"key\":\"450b44bdec11e8a25f2bdb704097a58f\"}"
   ]
  },
  {
   "cell_type": "code",
   "execution_count": 4,
   "id": "34f01f79",
   "metadata": {},
   "outputs": [],
   "source": [
    "#od.download('https://www.kaggle.com/andy8744/isekai-light-novel-titles-and-descriptions')"
   ]
  },
  {
   "cell_type": "markdown",
   "id": "4ca9232b",
   "metadata": {},
   "source": [
    "*Taking a look at the downloaded dataset in the directory*"
   ]
  },
  {
   "cell_type": "code",
   "execution_count": 5,
   "id": "ffa65286",
   "metadata": {},
   "outputs": [
    {
     "data": {
      "text/plain": [
       "['light-novel-titles.csv']"
      ]
     },
     "execution_count": 5,
     "metadata": {},
     "output_type": "execute_result"
    }
   ],
   "source": [
    "data_dir = \"./isekai-light-novel-titles-and-descriptions/\"\n",
    "os.listdir(data_dir)"
   ]
  },
  {
   "cell_type": "markdown",
   "id": "d12b502e",
   "metadata": {},
   "source": [
    "#### Loading the data into a pandas dataframe"
   ]
  },
  {
   "cell_type": "code",
   "execution_count": 6,
   "id": "872a98f4",
   "metadata": {},
   "outputs": [
    {
     "data": {
      "text/html": [
       "<div>\n",
       "<style scoped>\n",
       "    .dataframe tbody tr th:only-of-type {\n",
       "        vertical-align: middle;\n",
       "    }\n",
       "\n",
       "    .dataframe tbody tr th {\n",
       "        vertical-align: top;\n",
       "    }\n",
       "\n",
       "    .dataframe thead th {\n",
       "        text-align: right;\n",
       "    }\n",
       "</style>\n",
       "<table border=\"1\" class=\"dataframe\">\n",
       "  <thead>\n",
       "    <tr style=\"text-align: right;\">\n",
       "      <th></th>\n",
       "      <th>titles</th>\n",
       "      <th>descriptions</th>\n",
       "      <th>genres</th>\n",
       "      <th>links</th>\n",
       "    </tr>\n",
       "  </thead>\n",
       "  <tbody>\n",
       "    <tr>\n",
       "      <th>0</th>\n",
       "      <td>Thereafter of an Exiled Magician ~Somehow My E...</td>\n",
       "      <td>Lain, a reincarnated person, lives his life as...</td>\n",
       "      <td>['Action', 'Adventure', 'Ecchi', 'Fantasy', 'H...</td>\n",
       "      <td>https://www.novelupdates.com/series/thereafter...</td>\n",
       "    </tr>\n",
       "    <tr>\n",
       "      <th>1</th>\n",
       "      <td>Mahoutsukai no Konyakusha (LN)</td>\n",
       "      <td>I who was reincarnated into a world of sword a...</td>\n",
       "      <td>['Action', 'Drama', 'Fantasy', 'Harem', 'Matur...</td>\n",
       "      <td>https://www.novelupdates.com/series/mahoutsuka...</td>\n",
       "    </tr>\n",
       "    <tr>\n",
       "      <th>2</th>\n",
       "      <td>Exiled Prince Without Skills: Infinite Growth ...</td>\n",
       "      <td>Henry, born in a royal family without skills, ...</td>\n",
       "      <td>['Action', 'Adventure', 'Fantasy', 'Horror', '...</td>\n",
       "      <td>https://www.novelupdates.com/series/exiled-pri...</td>\n",
       "    </tr>\n",
       "    <tr>\n",
       "      <th>3</th>\n",
       "      <td>Reincarnation Of The Strongest Sword God</td>\n",
       "      <td>Starting over once more, he has entered this “...</td>\n",
       "      <td>['Action', 'Fantasy', 'Martial Arts', 'School ...</td>\n",
       "      <td>https://www.novelupdates.com/series/reincarnat...</td>\n",
       "    </tr>\n",
       "    <tr>\n",
       "      <th>4</th>\n",
       "      <td>Hard Work Will Never Betray Me (LN)</td>\n",
       "      <td>A youth whose effort wasn’t rewarded lost his ...</td>\n",
       "      <td>['Action', 'Adventure', 'Fantasy']</td>\n",
       "      <td>https://www.novelupdates.com/series/hard-work-...</td>\n",
       "    </tr>\n",
       "    <tr>\n",
       "      <th>...</th>\n",
       "      <td>...</td>\n",
       "      <td>...</td>\n",
       "      <td>...</td>\n",
       "      <td>...</td>\n",
       "    </tr>\n",
       "    <tr>\n",
       "      <th>1361</th>\n",
       "      <td>Slayers</td>\n",
       "      <td>\"Slayers follows the adventures of teenage sor...</td>\n",
       "      <td>['Action', 'Fantasy', 'Shounen', 'Supernatural']</td>\n",
       "      <td>https://www.novelupdates.com/series/slayers/</td>\n",
       "    </tr>\n",
       "    <tr>\n",
       "      <th>1362</th>\n",
       "      <td>No. 6</td>\n",
       "      <td>The year is 2013, and it's the city of No. 6: ...</td>\n",
       "      <td>['Action', 'Adventure', 'Fantasy', 'School Life']</td>\n",
       "      <td>https://www.novelupdates.com/series/no-6/</td>\n",
       "    </tr>\n",
       "    <tr>\n",
       "      <th>1363</th>\n",
       "      <td>Kidou Senshi Gundam High-Streamer</td>\n",
       "      <td>Originally published in Animage magazine in th...</td>\n",
       "      <td>['Comedy', 'Shounen Ai']</td>\n",
       "      <td>https://www.novelupdates.com/series/kidou-sens...</td>\n",
       "    </tr>\n",
       "    <tr>\n",
       "      <th>1364</th>\n",
       "      <td>Oda Nobuna no Yabou</td>\n",
       "      <td>Suddenly finding himself in the Sengoku era, r...</td>\n",
       "      <td>['Action', 'Adventure', 'Comedy', 'Fantasy', '...</td>\n",
       "      <td>https://www.novelupdates.com/series/oda-nobuna...</td>\n",
       "    </tr>\n",
       "    <tr>\n",
       "      <th>1365</th>\n",
       "      <td>Full Metal Panic!</td>\n",
       "      <td>Jindai High School was a relatively safe place...</td>\n",
       "      <td>['Action', 'Adventure', 'Fantasy', 'Harem', 'R...</td>\n",
       "      <td>https://www.novelupdates.com/series/full-metal...</td>\n",
       "    </tr>\n",
       "  </tbody>\n",
       "</table>\n",
       "<p>1366 rows × 4 columns</p>\n",
       "</div>"
      ],
      "text/plain": [
       "                                                 titles  \\\n",
       "0     Thereafter of an Exiled Magician ~Somehow My E...   \n",
       "1                        Mahoutsukai no Konyakusha (LN)   \n",
       "2     Exiled Prince Without Skills: Infinite Growth ...   \n",
       "3              Reincarnation Of The Strongest Sword God   \n",
       "4                   Hard Work Will Never Betray Me (LN)   \n",
       "...                                                 ...   \n",
       "1361                                            Slayers   \n",
       "1362                                              No. 6   \n",
       "1363                  Kidou Senshi Gundam High-Streamer   \n",
       "1364                                Oda Nobuna no Yabou   \n",
       "1365                                  Full Metal Panic!   \n",
       "\n",
       "                                           descriptions  \\\n",
       "0     Lain, a reincarnated person, lives his life as...   \n",
       "1     I who was reincarnated into a world of sword a...   \n",
       "2     Henry, born in a royal family without skills, ...   \n",
       "3     Starting over once more, he has entered this “...   \n",
       "4     A youth whose effort wasn’t rewarded lost his ...   \n",
       "...                                                 ...   \n",
       "1361  \"Slayers follows the adventures of teenage sor...   \n",
       "1362  The year is 2013, and it's the city of No. 6: ...   \n",
       "1363  Originally published in Animage magazine in th...   \n",
       "1364  Suddenly finding himself in the Sengoku era, r...   \n",
       "1365  Jindai High School was a relatively safe place...   \n",
       "\n",
       "                                                 genres  \\\n",
       "0     ['Action', 'Adventure', 'Ecchi', 'Fantasy', 'H...   \n",
       "1     ['Action', 'Drama', 'Fantasy', 'Harem', 'Matur...   \n",
       "2     ['Action', 'Adventure', 'Fantasy', 'Horror', '...   \n",
       "3     ['Action', 'Fantasy', 'Martial Arts', 'School ...   \n",
       "4                    ['Action', 'Adventure', 'Fantasy']   \n",
       "...                                                 ...   \n",
       "1361   ['Action', 'Fantasy', 'Shounen', 'Supernatural']   \n",
       "1362  ['Action', 'Adventure', 'Fantasy', 'School Life']   \n",
       "1363                           ['Comedy', 'Shounen Ai']   \n",
       "1364  ['Action', 'Adventure', 'Comedy', 'Fantasy', '...   \n",
       "1365  ['Action', 'Adventure', 'Fantasy', 'Harem', 'R...   \n",
       "\n",
       "                                                  links  \n",
       "0     https://www.novelupdates.com/series/thereafter...  \n",
       "1     https://www.novelupdates.com/series/mahoutsuka...  \n",
       "2     https://www.novelupdates.com/series/exiled-pri...  \n",
       "3     https://www.novelupdates.com/series/reincarnat...  \n",
       "4     https://www.novelupdates.com/series/hard-work-...  \n",
       "...                                                 ...  \n",
       "1361       https://www.novelupdates.com/series/slayers/  \n",
       "1362          https://www.novelupdates.com/series/no-6/  \n",
       "1363  https://www.novelupdates.com/series/kidou-sens...  \n",
       "1364  https://www.novelupdates.com/series/oda-nobuna...  \n",
       "1365  https://www.novelupdates.com/series/full-metal...  \n",
       "\n",
       "[1366 rows x 4 columns]"
      ]
     },
     "execution_count": 6,
     "metadata": {},
     "output_type": "execute_result"
    }
   ],
   "source": [
    "df = pd.read_csv(data_dir+'light-novel-titles.csv')\n",
    "df = df.convert_dtypes() # Converting the datatypes from object to something else\n",
    "df"
   ]
  },
  {
   "cell_type": "markdown",
   "id": "25b03179",
   "metadata": {},
   "source": [
    "**Looking at some of the examples**"
   ]
  },
  {
   "cell_type": "code",
   "execution_count": 7,
   "id": "4bdd9019",
   "metadata": {},
   "outputs": [
    {
     "name": "stdout",
     "output_type": "stream",
     "text": [
      "##### Example 28 #####\n",
      "If I were to fall into a game, I wish I would fall when I was young.\n",
      "\n",
      "\n",
      "##### Genres #####\n",
      "['Action', 'Fantasy', 'Martial Arts', 'School Life', 'Sci-fi', 'Supernatural']\n"
     ]
    }
   ],
   "source": [
    "random_example = np.random.choice(df.shape[0])\n",
    "print(f\"##### Example {random_example} #####\", \n",
    "      df['descriptions'].iloc[random_example], '',\n",
    "      \"##### Genres #####\", \n",
    "      df['genres'].iloc[random_example], sep=\"\\n\")"
   ]
  },
  {
   "cell_type": "code",
   "execution_count": 8,
   "id": "5c8b584e",
   "metadata": {},
   "outputs": [
    {
     "name": "stdout",
     "output_type": "stream",
     "text": [
      "##### Example 696 #####\n",
      "When the girl regained her senses she felt a sharp pain. All around her there was a darkness like sticky sludge. In that closed world a thin red light pierced through, allowing the girl to at long last open her eyes. What she saw was a strange red bird handing her a purple sphere. When she touched the sphere two lives inside her blended together.The goal of the girl was to meet her 60-years life expectancy. But she wanted to lead fulfilling days, so she thrust her neck into various matters. Because her body was feeble, she had to temper it. This is the tale of a turbulent era and the girl who lived fiercely, resolutely, and noisily in it.\n",
      "\n",
      "##### Genres #####\n",
      "['Action', 'Adventure', 'Fantasy', 'Harem', 'Romance', 'School Life', 'Shounen', 'Supernatural']\n"
     ]
    }
   ],
   "source": [
    "random_example = np.random.choice(df.shape[0])\n",
    "print(f\"##### Example {random_example} #####\", \n",
    "      df['descriptions'].iloc[random_example], '',\n",
    "      \"##### Genres #####\", \n",
    "      df['genres'].iloc[random_example], sep=\"\\n\")"
   ]
  },
  {
   "cell_type": "code",
   "execution_count": 9,
   "id": "4435f2c9",
   "metadata": {},
   "outputs": [
    {
     "name": "stdout",
     "output_type": "stream",
     "text": [
      "##### Example 894 #####\n",
      "In a city of the dead, long since ruined and far from human civilization, lives a single human child. His name is Will, and he’s being raised by three undead: the hearty skeletal warrior, Blood; the graceful mummified priestess, Mary; and the crotchety spectral sorcerer, Gus. The three pour love into the boy, and teach him all they know.But one day, Will starts to wonder: “Who am I?” Will must unravel the mysteries of this faraway dead man’s land, and unearth the secret pasts of the undead. He must learn the love and mercy of the good gods, and the bigotry and madness of the bad. And when he knows it all, the boy will take his first step on the path to becoming a Paladin.\n",
      "“I promised you. It’s gonna take a while, but I’ll tell you everything. This is the story of the deaths of many heroes. It’s the story of how we died, and it’s the reason you grew up here.”\n",
      "\n",
      "##### Genres #####\n",
      "['Action', 'Adventure', 'Fantasy', 'Harem', 'Romance', 'School Life', 'Shounen', 'Supernatural']\n"
     ]
    }
   ],
   "source": [
    "random_example = np.random.choice(df.shape[0])\n",
    "print(f\"##### Example {random_example} #####\", \n",
    "      df['descriptions'].iloc[random_example], '',\n",
    "      \"##### Genres #####\", \n",
    "      df['genres'].iloc[random_example], sep=\"\\n\")"
   ]
  },
  {
   "cell_type": "markdown",
   "id": "561b3cce",
   "metadata": {},
   "source": [
    "**Splitting up the genres into separate columns (Creating Dummy Variables)**"
   ]
  },
  {
   "cell_type": "code",
   "execution_count": 10,
   "id": "c5497bd2",
   "metadata": {},
   "outputs": [
    {
     "data": {
      "text/plain": [
       "['Action',\n",
       " 'Adult',\n",
       " 'Adventure',\n",
       " 'Comedy',\n",
       " 'Drama',\n",
       " 'Ecchi',\n",
       " 'Fantasy',\n",
       " 'Gender Bender',\n",
       " 'Harem',\n",
       " 'Horror',\n",
       " 'Martial Arts',\n",
       " 'Mature',\n",
       " 'Mecha',\n",
       " 'Mystery',\n",
       " 'Romance',\n",
       " 'School Life',\n",
       " 'Sci-fi',\n",
       " 'Seinen',\n",
       " 'Shoujo Ai',\n",
       " 'Shounen',\n",
       " 'Shounen Ai',\n",
       " 'Slice of Life',\n",
       " 'Smut',\n",
       " 'Supernatural',\n",
       " 'Yaoi']"
      ]
     },
     "execution_count": 10,
     "metadata": {},
     "output_type": "execute_result"
    }
   ],
   "source": [
    "genres_set = set() # Creating a set\n",
    "# Looping through each item in the dataframe\n",
    "for i in range(df['genres'].shape[0]):\n",
    "    # Looping through each genre and adding to to the set\n",
    "    for genre in eval(df['genres'].iloc[i]):\n",
    "        genres_set.add(genre)\n",
    "        \n",
    "genres_set = list(genres_set) # Turning it into a list\n",
    "genres_set.sort() # Sort the list\n",
    "genres_set"
   ]
  },
  {
   "cell_type": "code",
   "execution_count": 11,
   "id": "886e6c5d",
   "metadata": {},
   "outputs": [],
   "source": [
    "genres_dummy_list = [] # Used to store the genres as a dummy variable for each row\n",
    "\n",
    "# Loop through all the genres again in the whole dataset\n",
    "for i in range(df['genres'].shape[0]):\n",
    "    # Create a temp array to store if the genre is present\n",
    "    temp_genre_list = [0] * len(genres_set)\n",
    "    # Store the current genres\n",
    "    curr_genres = eval(df['genres'].iloc[i])\n",
    "    # Loop through all the possible genres\n",
    "    for idx in range(len(genres_set)):\n",
    "        # if the genres is in the rows current genre\n",
    "        if genres_set[idx] in curr_genres:\n",
    "            # Mark it present\n",
    "            temp_genre_list[idx] = 1\n",
    "    # Adding the labels found in each example into a list\n",
    "    genres_dummy_list.append(temp_genre_list)\n"
   ]
  },
  {
   "cell_type": "markdown",
   "id": "d7186837",
   "metadata": {},
   "source": [
    "*Lookign at the First 10 rows to see what it looks like*"
   ]
  },
  {
   "cell_type": "code",
   "execution_count": 12,
   "id": "60912bbb",
   "metadata": {},
   "outputs": [
    {
     "data": {
      "text/plain": [
       "[[1, 0, 1, 0, 0, 1, 1, 0, 1, 0, 0, 0, 0, 0, 1, 0, 0, 0, 0, 1, 0, 0, 0, 0, 0],\n",
       " [1, 0, 0, 0, 1, 0, 1, 0, 1, 0, 0, 1, 0, 0, 1, 0, 0, 0, 0, 0, 0, 0, 0, 0, 0],\n",
       " [1, 0, 1, 0, 0, 0, 1, 0, 0, 1, 0, 0, 0, 0, 0, 0, 0, 0, 0, 0, 0, 0, 0, 1, 1],\n",
       " [1, 0, 0, 0, 0, 0, 1, 0, 0, 0, 1, 0, 0, 0, 0, 1, 1, 0, 0, 0, 0, 0, 0, 1, 0],\n",
       " [1, 0, 1, 0, 0, 0, 1, 0, 0, 0, 0, 0, 0, 0, 0, 0, 0, 0, 0, 0, 0, 0, 0, 0, 0],\n",
       " [1, 0, 1, 0, 0, 0, 1, 0, 1, 0, 0, 0, 0, 0, 0, 0, 0, 1, 0, 0, 0, 0, 0, 0, 0],\n",
       " [1, 0, 1, 0, 0, 0, 1, 0, 1, 0, 0, 0, 0, 0, 1, 0, 0, 0, 0, 1, 0, 0, 0, 0, 0],\n",
       " [0, 0, 0, 1, 0, 0, 1, 0, 0, 0, 0, 0, 0, 0, 0, 0, 0, 0, 0, 0, 0, 1, 0, 0, 0],\n",
       " [1, 0, 1, 1, 0, 0, 1, 0, 1, 0, 0, 0, 0, 0, 1, 0, 0, 0, 0, 0, 0, 0, 0, 0, 0],\n",
       " [0, 0, 1, 0, 0, 0, 1, 0, 0, 0, 0, 0, 0, 0, 0, 0, 0, 0, 0, 1, 0, 1, 0, 0, 0]]"
      ]
     },
     "execution_count": 12,
     "metadata": {},
     "output_type": "execute_result"
    }
   ],
   "source": [
    "genres_dummy_list[:10]"
   ]
  },
  {
   "cell_type": "markdown",
   "id": "f8ef1b93",
   "metadata": {},
   "source": [
    "**Add them to the dataset with their respective labels**"
   ]
  },
  {
   "cell_type": "markdown",
   "id": "070ecd06",
   "metadata": {},
   "source": [
    "*What the label looks like*"
   ]
  },
  {
   "cell_type": "code",
   "execution_count": 13,
   "id": "faeb98e4",
   "metadata": {},
   "outputs": [
    {
     "data": {
      "text/html": [
       "<div>\n",
       "<style scoped>\n",
       "    .dataframe tbody tr th:only-of-type {\n",
       "        vertical-align: middle;\n",
       "    }\n",
       "\n",
       "    .dataframe tbody tr th {\n",
       "        vertical-align: top;\n",
       "    }\n",
       "\n",
       "    .dataframe thead th {\n",
       "        text-align: right;\n",
       "    }\n",
       "</style>\n",
       "<table border=\"1\" class=\"dataframe\">\n",
       "  <thead>\n",
       "    <tr style=\"text-align: right;\">\n",
       "      <th></th>\n",
       "      <th>Action</th>\n",
       "      <th>Adult</th>\n",
       "      <th>Adventure</th>\n",
       "      <th>Comedy</th>\n",
       "      <th>Drama</th>\n",
       "      <th>Ecchi</th>\n",
       "      <th>Fantasy</th>\n",
       "      <th>Gender Bender</th>\n",
       "      <th>Harem</th>\n",
       "      <th>Horror</th>\n",
       "      <th>...</th>\n",
       "      <th>School Life</th>\n",
       "      <th>Sci-fi</th>\n",
       "      <th>Seinen</th>\n",
       "      <th>Shoujo Ai</th>\n",
       "      <th>Shounen</th>\n",
       "      <th>Shounen Ai</th>\n",
       "      <th>Slice of Life</th>\n",
       "      <th>Smut</th>\n",
       "      <th>Supernatural</th>\n",
       "      <th>Yaoi</th>\n",
       "    </tr>\n",
       "  </thead>\n",
       "  <tbody>\n",
       "    <tr>\n",
       "      <th>0</th>\n",
       "      <td>1</td>\n",
       "      <td>0</td>\n",
       "      <td>1</td>\n",
       "      <td>0</td>\n",
       "      <td>0</td>\n",
       "      <td>1</td>\n",
       "      <td>1</td>\n",
       "      <td>0</td>\n",
       "      <td>1</td>\n",
       "      <td>0</td>\n",
       "      <td>...</td>\n",
       "      <td>0</td>\n",
       "      <td>0</td>\n",
       "      <td>0</td>\n",
       "      <td>0</td>\n",
       "      <td>1</td>\n",
       "      <td>0</td>\n",
       "      <td>0</td>\n",
       "      <td>0</td>\n",
       "      <td>0</td>\n",
       "      <td>0</td>\n",
       "    </tr>\n",
       "    <tr>\n",
       "      <th>1</th>\n",
       "      <td>1</td>\n",
       "      <td>0</td>\n",
       "      <td>0</td>\n",
       "      <td>0</td>\n",
       "      <td>1</td>\n",
       "      <td>0</td>\n",
       "      <td>1</td>\n",
       "      <td>0</td>\n",
       "      <td>1</td>\n",
       "      <td>0</td>\n",
       "      <td>...</td>\n",
       "      <td>0</td>\n",
       "      <td>0</td>\n",
       "      <td>0</td>\n",
       "      <td>0</td>\n",
       "      <td>0</td>\n",
       "      <td>0</td>\n",
       "      <td>0</td>\n",
       "      <td>0</td>\n",
       "      <td>0</td>\n",
       "      <td>0</td>\n",
       "    </tr>\n",
       "    <tr>\n",
       "      <th>2</th>\n",
       "      <td>1</td>\n",
       "      <td>0</td>\n",
       "      <td>1</td>\n",
       "      <td>0</td>\n",
       "      <td>0</td>\n",
       "      <td>0</td>\n",
       "      <td>1</td>\n",
       "      <td>0</td>\n",
       "      <td>0</td>\n",
       "      <td>1</td>\n",
       "      <td>...</td>\n",
       "      <td>0</td>\n",
       "      <td>0</td>\n",
       "      <td>0</td>\n",
       "      <td>0</td>\n",
       "      <td>0</td>\n",
       "      <td>0</td>\n",
       "      <td>0</td>\n",
       "      <td>0</td>\n",
       "      <td>1</td>\n",
       "      <td>1</td>\n",
       "    </tr>\n",
       "    <tr>\n",
       "      <th>3</th>\n",
       "      <td>1</td>\n",
       "      <td>0</td>\n",
       "      <td>0</td>\n",
       "      <td>0</td>\n",
       "      <td>0</td>\n",
       "      <td>0</td>\n",
       "      <td>1</td>\n",
       "      <td>0</td>\n",
       "      <td>0</td>\n",
       "      <td>0</td>\n",
       "      <td>...</td>\n",
       "      <td>1</td>\n",
       "      <td>1</td>\n",
       "      <td>0</td>\n",
       "      <td>0</td>\n",
       "      <td>0</td>\n",
       "      <td>0</td>\n",
       "      <td>0</td>\n",
       "      <td>0</td>\n",
       "      <td>1</td>\n",
       "      <td>0</td>\n",
       "    </tr>\n",
       "    <tr>\n",
       "      <th>4</th>\n",
       "      <td>1</td>\n",
       "      <td>0</td>\n",
       "      <td>1</td>\n",
       "      <td>0</td>\n",
       "      <td>0</td>\n",
       "      <td>0</td>\n",
       "      <td>1</td>\n",
       "      <td>0</td>\n",
       "      <td>0</td>\n",
       "      <td>0</td>\n",
       "      <td>...</td>\n",
       "      <td>0</td>\n",
       "      <td>0</td>\n",
       "      <td>0</td>\n",
       "      <td>0</td>\n",
       "      <td>0</td>\n",
       "      <td>0</td>\n",
       "      <td>0</td>\n",
       "      <td>0</td>\n",
       "      <td>0</td>\n",
       "      <td>0</td>\n",
       "    </tr>\n",
       "    <tr>\n",
       "      <th>...</th>\n",
       "      <td>...</td>\n",
       "      <td>...</td>\n",
       "      <td>...</td>\n",
       "      <td>...</td>\n",
       "      <td>...</td>\n",
       "      <td>...</td>\n",
       "      <td>...</td>\n",
       "      <td>...</td>\n",
       "      <td>...</td>\n",
       "      <td>...</td>\n",
       "      <td>...</td>\n",
       "      <td>...</td>\n",
       "      <td>...</td>\n",
       "      <td>...</td>\n",
       "      <td>...</td>\n",
       "      <td>...</td>\n",
       "      <td>...</td>\n",
       "      <td>...</td>\n",
       "      <td>...</td>\n",
       "      <td>...</td>\n",
       "      <td>...</td>\n",
       "    </tr>\n",
       "    <tr>\n",
       "      <th>1361</th>\n",
       "      <td>1</td>\n",
       "      <td>0</td>\n",
       "      <td>0</td>\n",
       "      <td>0</td>\n",
       "      <td>0</td>\n",
       "      <td>0</td>\n",
       "      <td>1</td>\n",
       "      <td>0</td>\n",
       "      <td>0</td>\n",
       "      <td>0</td>\n",
       "      <td>...</td>\n",
       "      <td>0</td>\n",
       "      <td>0</td>\n",
       "      <td>0</td>\n",
       "      <td>0</td>\n",
       "      <td>1</td>\n",
       "      <td>0</td>\n",
       "      <td>0</td>\n",
       "      <td>0</td>\n",
       "      <td>1</td>\n",
       "      <td>0</td>\n",
       "    </tr>\n",
       "    <tr>\n",
       "      <th>1362</th>\n",
       "      <td>1</td>\n",
       "      <td>0</td>\n",
       "      <td>1</td>\n",
       "      <td>0</td>\n",
       "      <td>0</td>\n",
       "      <td>0</td>\n",
       "      <td>1</td>\n",
       "      <td>0</td>\n",
       "      <td>0</td>\n",
       "      <td>0</td>\n",
       "      <td>...</td>\n",
       "      <td>1</td>\n",
       "      <td>0</td>\n",
       "      <td>0</td>\n",
       "      <td>0</td>\n",
       "      <td>0</td>\n",
       "      <td>0</td>\n",
       "      <td>0</td>\n",
       "      <td>0</td>\n",
       "      <td>0</td>\n",
       "      <td>0</td>\n",
       "    </tr>\n",
       "    <tr>\n",
       "      <th>1363</th>\n",
       "      <td>0</td>\n",
       "      <td>0</td>\n",
       "      <td>0</td>\n",
       "      <td>1</td>\n",
       "      <td>0</td>\n",
       "      <td>0</td>\n",
       "      <td>0</td>\n",
       "      <td>0</td>\n",
       "      <td>0</td>\n",
       "      <td>0</td>\n",
       "      <td>...</td>\n",
       "      <td>0</td>\n",
       "      <td>0</td>\n",
       "      <td>0</td>\n",
       "      <td>0</td>\n",
       "      <td>0</td>\n",
       "      <td>1</td>\n",
       "      <td>0</td>\n",
       "      <td>0</td>\n",
       "      <td>0</td>\n",
       "      <td>0</td>\n",
       "    </tr>\n",
       "    <tr>\n",
       "      <th>1364</th>\n",
       "      <td>1</td>\n",
       "      <td>0</td>\n",
       "      <td>1</td>\n",
       "      <td>1</td>\n",
       "      <td>0</td>\n",
       "      <td>0</td>\n",
       "      <td>1</td>\n",
       "      <td>0</td>\n",
       "      <td>1</td>\n",
       "      <td>0</td>\n",
       "      <td>...</td>\n",
       "      <td>0</td>\n",
       "      <td>0</td>\n",
       "      <td>0</td>\n",
       "      <td>0</td>\n",
       "      <td>1</td>\n",
       "      <td>0</td>\n",
       "      <td>0</td>\n",
       "      <td>0</td>\n",
       "      <td>0</td>\n",
       "      <td>0</td>\n",
       "    </tr>\n",
       "    <tr>\n",
       "      <th>1365</th>\n",
       "      <td>1</td>\n",
       "      <td>0</td>\n",
       "      <td>1</td>\n",
       "      <td>0</td>\n",
       "      <td>0</td>\n",
       "      <td>0</td>\n",
       "      <td>1</td>\n",
       "      <td>0</td>\n",
       "      <td>1</td>\n",
       "      <td>0</td>\n",
       "      <td>...</td>\n",
       "      <td>1</td>\n",
       "      <td>0</td>\n",
       "      <td>0</td>\n",
       "      <td>0</td>\n",
       "      <td>1</td>\n",
       "      <td>0</td>\n",
       "      <td>0</td>\n",
       "      <td>0</td>\n",
       "      <td>1</td>\n",
       "      <td>0</td>\n",
       "    </tr>\n",
       "  </tbody>\n",
       "</table>\n",
       "<p>1366 rows × 25 columns</p>\n",
       "</div>"
      ],
      "text/plain": [
       "      Action  Adult  Adventure  Comedy  Drama  Ecchi  Fantasy  Gender Bender  \\\n",
       "0          1      0          1       0      0      1        1              0   \n",
       "1          1      0          0       0      1      0        1              0   \n",
       "2          1      0          1       0      0      0        1              0   \n",
       "3          1      0          0       0      0      0        1              0   \n",
       "4          1      0          1       0      0      0        1              0   \n",
       "...      ...    ...        ...     ...    ...    ...      ...            ...   \n",
       "1361       1      0          0       0      0      0        1              0   \n",
       "1362       1      0          1       0      0      0        1              0   \n",
       "1363       0      0          0       1      0      0        0              0   \n",
       "1364       1      0          1       1      0      0        1              0   \n",
       "1365       1      0          1       0      0      0        1              0   \n",
       "\n",
       "      Harem  Horror  ...  School Life  Sci-fi  Seinen  Shoujo Ai  Shounen  \\\n",
       "0         1       0  ...            0       0       0          0        1   \n",
       "1         1       0  ...            0       0       0          0        0   \n",
       "2         0       1  ...            0       0       0          0        0   \n",
       "3         0       0  ...            1       1       0          0        0   \n",
       "4         0       0  ...            0       0       0          0        0   \n",
       "...     ...     ...  ...          ...     ...     ...        ...      ...   \n",
       "1361      0       0  ...            0       0       0          0        1   \n",
       "1362      0       0  ...            1       0       0          0        0   \n",
       "1363      0       0  ...            0       0       0          0        0   \n",
       "1364      1       0  ...            0       0       0          0        1   \n",
       "1365      1       0  ...            1       0       0          0        1   \n",
       "\n",
       "      Shounen Ai  Slice of Life  Smut  Supernatural  Yaoi  \n",
       "0              0              0     0             0     0  \n",
       "1              0              0     0             0     0  \n",
       "2              0              0     0             1     1  \n",
       "3              0              0     0             1     0  \n",
       "4              0              0     0             0     0  \n",
       "...          ...            ...   ...           ...   ...  \n",
       "1361           0              0     0             1     0  \n",
       "1362           0              0     0             0     0  \n",
       "1363           1              0     0             0     0  \n",
       "1364           0              0     0             0     0  \n",
       "1365           0              0     0             1     0  \n",
       "\n",
       "[1366 rows x 25 columns]"
      ]
     },
     "execution_count": 13,
     "metadata": {},
     "output_type": "execute_result"
    }
   ],
   "source": [
    "dummy_genre_df = pd.DataFrame(genres_dummy_list, columns=[*genres_set])\n",
    "dummy_genre_df"
   ]
  },
  {
   "cell_type": "markdown",
   "id": "eb7632e2",
   "metadata": {},
   "source": [
    "*The descriptions* "
   ]
  },
  {
   "cell_type": "code",
   "execution_count": 14,
   "id": "ff37bdb8",
   "metadata": {},
   "outputs": [
    {
     "data": {
      "text/html": [
       "<div>\n",
       "<style scoped>\n",
       "    .dataframe tbody tr th:only-of-type {\n",
       "        vertical-align: middle;\n",
       "    }\n",
       "\n",
       "    .dataframe tbody tr th {\n",
       "        vertical-align: top;\n",
       "    }\n",
       "\n",
       "    .dataframe thead th {\n",
       "        text-align: right;\n",
       "    }\n",
       "</style>\n",
       "<table border=\"1\" class=\"dataframe\">\n",
       "  <thead>\n",
       "    <tr style=\"text-align: right;\">\n",
       "      <th></th>\n",
       "      <th>descriptions</th>\n",
       "    </tr>\n",
       "  </thead>\n",
       "  <tbody>\n",
       "    <tr>\n",
       "      <th>0</th>\n",
       "      <td>Lain, a reincarnated person, lives his life as...</td>\n",
       "    </tr>\n",
       "    <tr>\n",
       "      <th>1</th>\n",
       "      <td>I who was reincarnated into a world of sword a...</td>\n",
       "    </tr>\n",
       "    <tr>\n",
       "      <th>2</th>\n",
       "      <td>Henry, born in a royal family without skills, ...</td>\n",
       "    </tr>\n",
       "    <tr>\n",
       "      <th>3</th>\n",
       "      <td>Starting over once more, he has entered this “...</td>\n",
       "    </tr>\n",
       "    <tr>\n",
       "      <th>4</th>\n",
       "      <td>A youth whose effort wasn’t rewarded lost his ...</td>\n",
       "    </tr>\n",
       "    <tr>\n",
       "      <th>...</th>\n",
       "      <td>...</td>\n",
       "    </tr>\n",
       "    <tr>\n",
       "      <th>1361</th>\n",
       "      <td>\"Slayers follows the adventures of teenage sor...</td>\n",
       "    </tr>\n",
       "    <tr>\n",
       "      <th>1362</th>\n",
       "      <td>The year is 2013, and it's the city of No. 6: ...</td>\n",
       "    </tr>\n",
       "    <tr>\n",
       "      <th>1363</th>\n",
       "      <td>Originally published in Animage magazine in th...</td>\n",
       "    </tr>\n",
       "    <tr>\n",
       "      <th>1364</th>\n",
       "      <td>Suddenly finding himself in the Sengoku era, r...</td>\n",
       "    </tr>\n",
       "    <tr>\n",
       "      <th>1365</th>\n",
       "      <td>Jindai High School was a relatively safe place...</td>\n",
       "    </tr>\n",
       "  </tbody>\n",
       "</table>\n",
       "<p>1366 rows × 1 columns</p>\n",
       "</div>"
      ],
      "text/plain": [
       "                                           descriptions\n",
       "0     Lain, a reincarnated person, lives his life as...\n",
       "1     I who was reincarnated into a world of sword a...\n",
       "2     Henry, born in a royal family without skills, ...\n",
       "3     Starting over once more, he has entered this “...\n",
       "4     A youth whose effort wasn’t rewarded lost his ...\n",
       "...                                                 ...\n",
       "1361  \"Slayers follows the adventures of teenage sor...\n",
       "1362  The year is 2013, and it's the city of No. 6: ...\n",
       "1363  Originally published in Animage magazine in th...\n",
       "1364  Suddenly finding himself in the Sengoku era, r...\n",
       "1365  Jindai High School was a relatively safe place...\n",
       "\n",
       "[1366 rows x 1 columns]"
      ]
     },
     "execution_count": 14,
     "metadata": {},
     "output_type": "execute_result"
    }
   ],
   "source": [
    "pd.DataFrame(df['descriptions'])"
   ]
  },
  {
   "cell_type": "markdown",
   "id": "d73a3e04",
   "metadata": {},
   "source": [
    "Combining them together"
   ]
  },
  {
   "cell_type": "code",
   "execution_count": 15,
   "id": "3e7651e4",
   "metadata": {},
   "outputs": [
    {
     "data": {
      "text/html": [
       "<div>\n",
       "<style scoped>\n",
       "    .dataframe tbody tr th:only-of-type {\n",
       "        vertical-align: middle;\n",
       "    }\n",
       "\n",
       "    .dataframe tbody tr th {\n",
       "        vertical-align: top;\n",
       "    }\n",
       "\n",
       "    .dataframe thead th {\n",
       "        text-align: right;\n",
       "    }\n",
       "</style>\n",
       "<table border=\"1\" class=\"dataframe\">\n",
       "  <thead>\n",
       "    <tr style=\"text-align: right;\">\n",
       "      <th></th>\n",
       "      <th>descriptions</th>\n",
       "      <th>Action</th>\n",
       "      <th>Adult</th>\n",
       "      <th>Adventure</th>\n",
       "      <th>Comedy</th>\n",
       "      <th>Drama</th>\n",
       "      <th>Ecchi</th>\n",
       "      <th>Fantasy</th>\n",
       "      <th>Gender Bender</th>\n",
       "      <th>Harem</th>\n",
       "      <th>...</th>\n",
       "      <th>School Life</th>\n",
       "      <th>Sci-fi</th>\n",
       "      <th>Seinen</th>\n",
       "      <th>Shoujo Ai</th>\n",
       "      <th>Shounen</th>\n",
       "      <th>Shounen Ai</th>\n",
       "      <th>Slice of Life</th>\n",
       "      <th>Smut</th>\n",
       "      <th>Supernatural</th>\n",
       "      <th>Yaoi</th>\n",
       "    </tr>\n",
       "  </thead>\n",
       "  <tbody>\n",
       "    <tr>\n",
       "      <th>0</th>\n",
       "      <td>Lain, a reincarnated person, lives his life as...</td>\n",
       "      <td>1</td>\n",
       "      <td>0</td>\n",
       "      <td>1</td>\n",
       "      <td>0</td>\n",
       "      <td>0</td>\n",
       "      <td>1</td>\n",
       "      <td>1</td>\n",
       "      <td>0</td>\n",
       "      <td>1</td>\n",
       "      <td>...</td>\n",
       "      <td>0</td>\n",
       "      <td>0</td>\n",
       "      <td>0</td>\n",
       "      <td>0</td>\n",
       "      <td>1</td>\n",
       "      <td>0</td>\n",
       "      <td>0</td>\n",
       "      <td>0</td>\n",
       "      <td>0</td>\n",
       "      <td>0</td>\n",
       "    </tr>\n",
       "    <tr>\n",
       "      <th>1</th>\n",
       "      <td>I who was reincarnated into a world of sword a...</td>\n",
       "      <td>1</td>\n",
       "      <td>0</td>\n",
       "      <td>0</td>\n",
       "      <td>0</td>\n",
       "      <td>1</td>\n",
       "      <td>0</td>\n",
       "      <td>1</td>\n",
       "      <td>0</td>\n",
       "      <td>1</td>\n",
       "      <td>...</td>\n",
       "      <td>0</td>\n",
       "      <td>0</td>\n",
       "      <td>0</td>\n",
       "      <td>0</td>\n",
       "      <td>0</td>\n",
       "      <td>0</td>\n",
       "      <td>0</td>\n",
       "      <td>0</td>\n",
       "      <td>0</td>\n",
       "      <td>0</td>\n",
       "    </tr>\n",
       "    <tr>\n",
       "      <th>2</th>\n",
       "      <td>Henry, born in a royal family without skills, ...</td>\n",
       "      <td>1</td>\n",
       "      <td>0</td>\n",
       "      <td>1</td>\n",
       "      <td>0</td>\n",
       "      <td>0</td>\n",
       "      <td>0</td>\n",
       "      <td>1</td>\n",
       "      <td>0</td>\n",
       "      <td>0</td>\n",
       "      <td>...</td>\n",
       "      <td>0</td>\n",
       "      <td>0</td>\n",
       "      <td>0</td>\n",
       "      <td>0</td>\n",
       "      <td>0</td>\n",
       "      <td>0</td>\n",
       "      <td>0</td>\n",
       "      <td>0</td>\n",
       "      <td>1</td>\n",
       "      <td>1</td>\n",
       "    </tr>\n",
       "    <tr>\n",
       "      <th>3</th>\n",
       "      <td>Starting over once more, he has entered this “...</td>\n",
       "      <td>1</td>\n",
       "      <td>0</td>\n",
       "      <td>0</td>\n",
       "      <td>0</td>\n",
       "      <td>0</td>\n",
       "      <td>0</td>\n",
       "      <td>1</td>\n",
       "      <td>0</td>\n",
       "      <td>0</td>\n",
       "      <td>...</td>\n",
       "      <td>1</td>\n",
       "      <td>1</td>\n",
       "      <td>0</td>\n",
       "      <td>0</td>\n",
       "      <td>0</td>\n",
       "      <td>0</td>\n",
       "      <td>0</td>\n",
       "      <td>0</td>\n",
       "      <td>1</td>\n",
       "      <td>0</td>\n",
       "    </tr>\n",
       "    <tr>\n",
       "      <th>4</th>\n",
       "      <td>A youth whose effort wasn’t rewarded lost his ...</td>\n",
       "      <td>1</td>\n",
       "      <td>0</td>\n",
       "      <td>1</td>\n",
       "      <td>0</td>\n",
       "      <td>0</td>\n",
       "      <td>0</td>\n",
       "      <td>1</td>\n",
       "      <td>0</td>\n",
       "      <td>0</td>\n",
       "      <td>...</td>\n",
       "      <td>0</td>\n",
       "      <td>0</td>\n",
       "      <td>0</td>\n",
       "      <td>0</td>\n",
       "      <td>0</td>\n",
       "      <td>0</td>\n",
       "      <td>0</td>\n",
       "      <td>0</td>\n",
       "      <td>0</td>\n",
       "      <td>0</td>\n",
       "    </tr>\n",
       "    <tr>\n",
       "      <th>...</th>\n",
       "      <td>...</td>\n",
       "      <td>...</td>\n",
       "      <td>...</td>\n",
       "      <td>...</td>\n",
       "      <td>...</td>\n",
       "      <td>...</td>\n",
       "      <td>...</td>\n",
       "      <td>...</td>\n",
       "      <td>...</td>\n",
       "      <td>...</td>\n",
       "      <td>...</td>\n",
       "      <td>...</td>\n",
       "      <td>...</td>\n",
       "      <td>...</td>\n",
       "      <td>...</td>\n",
       "      <td>...</td>\n",
       "      <td>...</td>\n",
       "      <td>...</td>\n",
       "      <td>...</td>\n",
       "      <td>...</td>\n",
       "      <td>...</td>\n",
       "    </tr>\n",
       "    <tr>\n",
       "      <th>1361</th>\n",
       "      <td>\"Slayers follows the adventures of teenage sor...</td>\n",
       "      <td>1</td>\n",
       "      <td>0</td>\n",
       "      <td>0</td>\n",
       "      <td>0</td>\n",
       "      <td>0</td>\n",
       "      <td>0</td>\n",
       "      <td>1</td>\n",
       "      <td>0</td>\n",
       "      <td>0</td>\n",
       "      <td>...</td>\n",
       "      <td>0</td>\n",
       "      <td>0</td>\n",
       "      <td>0</td>\n",
       "      <td>0</td>\n",
       "      <td>1</td>\n",
       "      <td>0</td>\n",
       "      <td>0</td>\n",
       "      <td>0</td>\n",
       "      <td>1</td>\n",
       "      <td>0</td>\n",
       "    </tr>\n",
       "    <tr>\n",
       "      <th>1362</th>\n",
       "      <td>The year is 2013, and it's the city of No. 6: ...</td>\n",
       "      <td>1</td>\n",
       "      <td>0</td>\n",
       "      <td>1</td>\n",
       "      <td>0</td>\n",
       "      <td>0</td>\n",
       "      <td>0</td>\n",
       "      <td>1</td>\n",
       "      <td>0</td>\n",
       "      <td>0</td>\n",
       "      <td>...</td>\n",
       "      <td>1</td>\n",
       "      <td>0</td>\n",
       "      <td>0</td>\n",
       "      <td>0</td>\n",
       "      <td>0</td>\n",
       "      <td>0</td>\n",
       "      <td>0</td>\n",
       "      <td>0</td>\n",
       "      <td>0</td>\n",
       "      <td>0</td>\n",
       "    </tr>\n",
       "    <tr>\n",
       "      <th>1363</th>\n",
       "      <td>Originally published in Animage magazine in th...</td>\n",
       "      <td>0</td>\n",
       "      <td>0</td>\n",
       "      <td>0</td>\n",
       "      <td>1</td>\n",
       "      <td>0</td>\n",
       "      <td>0</td>\n",
       "      <td>0</td>\n",
       "      <td>0</td>\n",
       "      <td>0</td>\n",
       "      <td>...</td>\n",
       "      <td>0</td>\n",
       "      <td>0</td>\n",
       "      <td>0</td>\n",
       "      <td>0</td>\n",
       "      <td>0</td>\n",
       "      <td>1</td>\n",
       "      <td>0</td>\n",
       "      <td>0</td>\n",
       "      <td>0</td>\n",
       "      <td>0</td>\n",
       "    </tr>\n",
       "    <tr>\n",
       "      <th>1364</th>\n",
       "      <td>Suddenly finding himself in the Sengoku era, r...</td>\n",
       "      <td>1</td>\n",
       "      <td>0</td>\n",
       "      <td>1</td>\n",
       "      <td>1</td>\n",
       "      <td>0</td>\n",
       "      <td>0</td>\n",
       "      <td>1</td>\n",
       "      <td>0</td>\n",
       "      <td>1</td>\n",
       "      <td>...</td>\n",
       "      <td>0</td>\n",
       "      <td>0</td>\n",
       "      <td>0</td>\n",
       "      <td>0</td>\n",
       "      <td>1</td>\n",
       "      <td>0</td>\n",
       "      <td>0</td>\n",
       "      <td>0</td>\n",
       "      <td>0</td>\n",
       "      <td>0</td>\n",
       "    </tr>\n",
       "    <tr>\n",
       "      <th>1365</th>\n",
       "      <td>Jindai High School was a relatively safe place...</td>\n",
       "      <td>1</td>\n",
       "      <td>0</td>\n",
       "      <td>1</td>\n",
       "      <td>0</td>\n",
       "      <td>0</td>\n",
       "      <td>0</td>\n",
       "      <td>1</td>\n",
       "      <td>0</td>\n",
       "      <td>1</td>\n",
       "      <td>...</td>\n",
       "      <td>1</td>\n",
       "      <td>0</td>\n",
       "      <td>0</td>\n",
       "      <td>0</td>\n",
       "      <td>1</td>\n",
       "      <td>0</td>\n",
       "      <td>0</td>\n",
       "      <td>0</td>\n",
       "      <td>1</td>\n",
       "      <td>0</td>\n",
       "    </tr>\n",
       "  </tbody>\n",
       "</table>\n",
       "<p>1366 rows × 26 columns</p>\n",
       "</div>"
      ],
      "text/plain": [
       "                                           descriptions  Action  Adult  \\\n",
       "0     Lain, a reincarnated person, lives his life as...       1      0   \n",
       "1     I who was reincarnated into a world of sword a...       1      0   \n",
       "2     Henry, born in a royal family without skills, ...       1      0   \n",
       "3     Starting over once more, he has entered this “...       1      0   \n",
       "4     A youth whose effort wasn’t rewarded lost his ...       1      0   \n",
       "...                                                 ...     ...    ...   \n",
       "1361  \"Slayers follows the adventures of teenage sor...       1      0   \n",
       "1362  The year is 2013, and it's the city of No. 6: ...       1      0   \n",
       "1363  Originally published in Animage magazine in th...       0      0   \n",
       "1364  Suddenly finding himself in the Sengoku era, r...       1      0   \n",
       "1365  Jindai High School was a relatively safe place...       1      0   \n",
       "\n",
       "      Adventure  Comedy  Drama  Ecchi  Fantasy  Gender Bender  Harem  ...  \\\n",
       "0             1       0      0      1        1              0      1  ...   \n",
       "1             0       0      1      0        1              0      1  ...   \n",
       "2             1       0      0      0        1              0      0  ...   \n",
       "3             0       0      0      0        1              0      0  ...   \n",
       "4             1       0      0      0        1              0      0  ...   \n",
       "...         ...     ...    ...    ...      ...            ...    ...  ...   \n",
       "1361          0       0      0      0        1              0      0  ...   \n",
       "1362          1       0      0      0        1              0      0  ...   \n",
       "1363          0       1      0      0        0              0      0  ...   \n",
       "1364          1       1      0      0        1              0      1  ...   \n",
       "1365          1       0      0      0        1              0      1  ...   \n",
       "\n",
       "      School Life  Sci-fi  Seinen  Shoujo Ai  Shounen  Shounen Ai  \\\n",
       "0               0       0       0          0        1           0   \n",
       "1               0       0       0          0        0           0   \n",
       "2               0       0       0          0        0           0   \n",
       "3               1       1       0          0        0           0   \n",
       "4               0       0       0          0        0           0   \n",
       "...           ...     ...     ...        ...      ...         ...   \n",
       "1361            0       0       0          0        1           0   \n",
       "1362            1       0       0          0        0           0   \n",
       "1363            0       0       0          0        0           1   \n",
       "1364            0       0       0          0        1           0   \n",
       "1365            1       0       0          0        1           0   \n",
       "\n",
       "      Slice of Life  Smut  Supernatural  Yaoi  \n",
       "0                 0     0             0     0  \n",
       "1                 0     0             0     0  \n",
       "2                 0     0             1     1  \n",
       "3                 0     0             1     0  \n",
       "4                 0     0             0     0  \n",
       "...             ...   ...           ...   ...  \n",
       "1361              0     0             1     0  \n",
       "1362              0     0             0     0  \n",
       "1363              0     0             0     0  \n",
       "1364              0     0             0     0  \n",
       "1365              0     0             1     0  \n",
       "\n",
       "[1366 rows x 26 columns]"
      ]
     },
     "execution_count": 15,
     "metadata": {},
     "output_type": "execute_result"
    }
   ],
   "source": [
    "df_processed = pd.concat([df['descriptions'], dummy_genre_df], axis=1)\n",
    "df_processed"
   ]
  },
  {
   "cell_type": "markdown",
   "id": "d909e880",
   "metadata": {},
   "source": [
    "#### Looking at which genres are most present"
   ]
  },
  {
   "cell_type": "code",
   "execution_count": 16,
   "id": "0205bc38",
   "metadata": {},
   "outputs": [
    {
     "data": {
      "text/plain": [
       "Fantasy          1311\n",
       "Action            985\n",
       "Adventure         929\n",
       "Shounen           601\n",
       "Harem             547\n",
       "Romance           493\n",
       "Comedy            434\n",
       "Supernatural      329\n",
       "School Life       219\n",
       "Slice of Life     218\n",
       "Martial Arts      164\n",
       "Seinen            110\n",
       "Sci-fi            110\n",
       "Yaoi              109\n",
       "Mature            108\n",
       "Smut              108\n",
       "Mystery            55\n",
       "Shoujo Ai          55\n",
       "Shounen Ai         55\n",
       "Ecchi              55\n",
       "Drama              55\n",
       "Mecha              55\n",
       "Horror             54\n",
       "Gender Bender      54\n",
       "Adult              53\n",
       "dtype: int64"
      ]
     },
     "execution_count": 16,
     "metadata": {},
     "output_type": "execute_result"
    }
   ],
   "source": [
    "df_genres_trans = df_processed.iloc[:,1:].T.sum(axis=1).sort_values(ascending=False).copy()\n",
    "df_genres_trans"
   ]
  },
  {
   "cell_type": "code",
   "execution_count": 17,
   "id": "14e11e1d",
   "metadata": {},
   "outputs": [
    {
     "data": {
      "image/png": "[encoded data removed]",
      "text/plain": [
       "<Figure size 1000x800 with 1 Axes>"
      ]
     },
     "metadata": {},
     "output_type": "display_data"
    }
   ],
   "source": [
    "sns.set_style(\"whitegrid\") # Sets the graph style\n",
    "sns.set_context(\"talk\") # Creates a uniform font size\n",
    "plt.figure(figsize=(10,8)) # Figure size\n",
    "sns.barplot(y=df_genres_trans.index, x=df_genres_trans.values, palette=\"Blues_d\") # Graph code\n",
    "plt.title(\"Genres present in the dataset\") # Title\n",
    "plt.show()"
   ]
  },
  {
   "cell_type": "markdown",
   "id": "cdcf3a4f",
   "metadata": {},
   "source": [
    "#### Cleaning the data"
   ]
  },
  {
   "cell_type": "markdown",
   "id": "db5d6274",
   "metadata": {},
   "source": [
    "*Loading in the helper function*"
   ]
  },
  {
   "cell_type": "code",
   "execution_count": 18,
   "id": "f61fa14a",
   "metadata": {},
   "outputs": [],
   "source": [
    "stop_words = stopwords.words('english')\n",
    "\n",
    "def clean_text(text):\n",
    "    text = str(text).lower() # Lowercases everything \n",
    "    text = re.sub('<.*?>+', '', text) # Removes everything between '<' and '>'\n",
    "    text = re.sub(r'[^\\w\\s]', '', text) # Removes all punctuation\n",
    "    text = re.sub('\\n', '', text) # Removes any breaklines\n",
    "    text = re.sub('\\w*\\d\\w*', '', text) # Removes any words that contain numbers \n",
    "    \n",
    "    # Remove Stopwords\n",
    "    text = ' '.join(word for word in text.split() if word not in stop_words)\n",
    "\n",
    "    # Removing non english characters\n",
    "    text = ''.join(line for line in text if line in string.printable)\n",
    "    \n",
    "    # Fixing extra whitespaces between words\n",
    "    text = ' '.join(text.split())\n",
    "    return text"
   ]
  },
  {
   "cell_type": "markdown",
   "id": "29b3eba4",
   "metadata": {},
   "source": [
    "Cleaning the data "
   ]
  },
  {
   "cell_type": "code",
   "execution_count": 19,
   "id": "254f41fd",
   "metadata": {},
   "outputs": [
    {
     "data": {
      "text/html": [
       "<div>\n",
       "<style scoped>\n",
       "    .dataframe tbody tr th:only-of-type {\n",
       "        vertical-align: middle;\n",
       "    }\n",
       "\n",
       "    .dataframe tbody tr th {\n",
       "        vertical-align: top;\n",
       "    }\n",
       "\n",
       "    .dataframe thead th {\n",
       "        text-align: right;\n",
       "    }\n",
       "</style>\n",
       "<table border=\"1\" class=\"dataframe\">\n",
       "  <thead>\n",
       "    <tr style=\"text-align: right;\">\n",
       "      <th></th>\n",
       "      <th>descriptions</th>\n",
       "      <th>descriptions_cleaned</th>\n",
       "    </tr>\n",
       "  </thead>\n",
       "  <tbody>\n",
       "    <tr>\n",
       "      <th>0</th>\n",
       "      <td>Lain, a reincarnated person, lives his life as...</td>\n",
       "      <td>lain reincarnated person lives life antidemon ...</td>\n",
       "    </tr>\n",
       "    <tr>\n",
       "      <th>1</th>\n",
       "      <td>I who was reincarnated into a world of sword a...</td>\n",
       "      <td>reincarnated world sword magic revived demon k...</td>\n",
       "    </tr>\n",
       "    <tr>\n",
       "      <th>2</th>\n",
       "      <td>Henry, born in a royal family without skills, ...</td>\n",
       "      <td>henry born royal family without skills given t...</td>\n",
       "    </tr>\n",
       "    <tr>\n",
       "      <th>3</th>\n",
       "      <td>Starting over once more, he has entered this “...</td>\n",
       "      <td>starting entered living game order control fat...</td>\n",
       "    </tr>\n",
       "    <tr>\n",
       "      <th>4</th>\n",
       "      <td>A youth whose effort wasn’t rewarded lost his ...</td>\n",
       "      <td>youth whose effort wasnt rewarded lost life tr...</td>\n",
       "    </tr>\n",
       "    <tr>\n",
       "      <th>...</th>\n",
       "      <td>...</td>\n",
       "      <td>...</td>\n",
       "    </tr>\n",
       "    <tr>\n",
       "      <th>1361</th>\n",
       "      <td>\"Slayers follows the adventures of teenage sor...</td>\n",
       "      <td>slayers follows adventures teenage sorceress l...</td>\n",
       "    </tr>\n",
       "    <tr>\n",
       "      <th>1362</th>\n",
       "      <td>The year is 2013, and it's the city of No. 6: ...</td>\n",
       "      <td>year city stringently controlled diligently ma...</td>\n",
       "    </tr>\n",
       "    <tr>\n",
       "      <th>1363</th>\n",
       "      <td>Originally published in Animage magazine in th...</td>\n",
       "      <td>originally published animage magazine late tit...</td>\n",
       "    </tr>\n",
       "    <tr>\n",
       "      <th>1364</th>\n",
       "      <td>Suddenly finding himself in the Sengoku era, r...</td>\n",
       "      <td>suddenly finding sengoku era regular high scho...</td>\n",
       "    </tr>\n",
       "    <tr>\n",
       "      <th>1365</th>\n",
       "      <td>Jindai High School was a relatively safe place...</td>\n",
       "      <td>jindai high school relatively safe place right...</td>\n",
       "    </tr>\n",
       "  </tbody>\n",
       "</table>\n",
       "<p>1366 rows × 2 columns</p>\n",
       "</div>"
      ],
      "text/plain": [
       "                                           descriptions  \\\n",
       "0     Lain, a reincarnated person, lives his life as...   \n",
       "1     I who was reincarnated into a world of sword a...   \n",
       "2     Henry, born in a royal family without skills, ...   \n",
       "3     Starting over once more, he has entered this “...   \n",
       "4     A youth whose effort wasn’t rewarded lost his ...   \n",
       "...                                                 ...   \n",
       "1361  \"Slayers follows the adventures of teenage sor...   \n",
       "1362  The year is 2013, and it's the city of No. 6: ...   \n",
       "1363  Originally published in Animage magazine in th...   \n",
       "1364  Suddenly finding himself in the Sengoku era, r...   \n",
       "1365  Jindai High School was a relatively safe place...   \n",
       "\n",
       "                                   descriptions_cleaned  \n",
       "0     lain reincarnated person lives life antidemon ...  \n",
       "1     reincarnated world sword magic revived demon k...  \n",
       "2     henry born royal family without skills given t...  \n",
       "3     starting entered living game order control fat...  \n",
       "4     youth whose effort wasnt rewarded lost life tr...  \n",
       "...                                                 ...  \n",
       "1361  slayers follows adventures teenage sorceress l...  \n",
       "1362  year city stringently controlled diligently ma...  \n",
       "1363  originally published animage magazine late tit...  \n",
       "1364  suddenly finding sengoku era regular high scho...  \n",
       "1365  jindai high school relatively safe place right...  \n",
       "\n",
       "[1366 rows x 2 columns]"
      ]
     },
     "execution_count": 19,
     "metadata": {},
     "output_type": "execute_result"
    }
   ],
   "source": [
    "df_processed['descriptions_cleaned'] = df_processed['descriptions'].apply(clean_text) # Applies the function over every line in the dataset\n",
    "df_processed[['descriptions','descriptions_cleaned']]"
   ]
  },
  {
   "cell_type": "markdown",
   "id": "76f0d5e9",
   "metadata": {},
   "source": [
    "#### Splitting the data into training and testing sets"
   ]
  },
  {
   "cell_type": "markdown",
   "id": "c47b7d78",
   "metadata": {},
   "source": [
    "*Shuffling the dataset*"
   ]
  },
  {
   "cell_type": "code",
   "execution_count": 20,
   "id": "38fa88e3",
   "metadata": {},
   "outputs": [
    {
     "data": {
      "text/html": [
       "<div>\n",
       "<style scoped>\n",
       "    .dataframe tbody tr th:only-of-type {\n",
       "        vertical-align: middle;\n",
       "    }\n",
       "\n",
       "    .dataframe tbody tr th {\n",
       "        vertical-align: top;\n",
       "    }\n",
       "\n",
       "    .dataframe thead th {\n",
       "        text-align: right;\n",
       "    }\n",
       "</style>\n",
       "<table border=\"1\" class=\"dataframe\">\n",
       "  <thead>\n",
       "    <tr style=\"text-align: right;\">\n",
       "      <th></th>\n",
       "      <th>descriptions</th>\n",
       "      <th>Action</th>\n",
       "      <th>Adult</th>\n",
       "      <th>Adventure</th>\n",
       "      <th>Comedy</th>\n",
       "      <th>Drama</th>\n",
       "      <th>Ecchi</th>\n",
       "      <th>Fantasy</th>\n",
       "      <th>Gender Bender</th>\n",
       "      <th>Harem</th>\n",
       "      <th>...</th>\n",
       "      <th>Sci-fi</th>\n",
       "      <th>Seinen</th>\n",
       "      <th>Shoujo Ai</th>\n",
       "      <th>Shounen</th>\n",
       "      <th>Shounen Ai</th>\n",
       "      <th>Slice of Life</th>\n",
       "      <th>Smut</th>\n",
       "      <th>Supernatural</th>\n",
       "      <th>Yaoi</th>\n",
       "      <th>descriptions_cleaned</th>\n",
       "    </tr>\n",
       "  </thead>\n",
       "  <tbody>\n",
       "    <tr>\n",
       "      <th>0</th>\n",
       "      <td>Fantasy World One day, Chen Caixing entered in...</td>\n",
       "      <td>1</td>\n",
       "      <td>0</td>\n",
       "      <td>1</td>\n",
       "      <td>0</td>\n",
       "      <td>0</td>\n",
       "      <td>0</td>\n",
       "      <td>1</td>\n",
       "      <td>0</td>\n",
       "      <td>1</td>\n",
       "      <td>...</td>\n",
       "      <td>0</td>\n",
       "      <td>0</td>\n",
       "      <td>0</td>\n",
       "      <td>1</td>\n",
       "      <td>0</td>\n",
       "      <td>0</td>\n",
       "      <td>0</td>\n",
       "      <td>0</td>\n",
       "      <td>0</td>\n",
       "      <td>fantasy world one day chen caixing entered wor...</td>\n",
       "    </tr>\n",
       "    <tr>\n",
       "      <th>1</th>\n",
       "      <td>I’d been reincarnated as the heroine of a pred...</td>\n",
       "      <td>1</td>\n",
       "      <td>0</td>\n",
       "      <td>1</td>\n",
       "      <td>0</td>\n",
       "      <td>0</td>\n",
       "      <td>0</td>\n",
       "      <td>1</td>\n",
       "      <td>0</td>\n",
       "      <td>1</td>\n",
       "      <td>...</td>\n",
       "      <td>0</td>\n",
       "      <td>1</td>\n",
       "      <td>0</td>\n",
       "      <td>0</td>\n",
       "      <td>0</td>\n",
       "      <td>0</td>\n",
       "      <td>0</td>\n",
       "      <td>0</td>\n",
       "      <td>0</td>\n",
       "      <td>id reincarnated heroine predictable thirdrate ...</td>\n",
       "    </tr>\n",
       "    <tr>\n",
       "      <th>2</th>\n",
       "      <td>Fantasy World Right when Drako Yau, the chairm...</td>\n",
       "      <td>1</td>\n",
       "      <td>0</td>\n",
       "      <td>1</td>\n",
       "      <td>1</td>\n",
       "      <td>0</td>\n",
       "      <td>0</td>\n",
       "      <td>1</td>\n",
       "      <td>0</td>\n",
       "      <td>1</td>\n",
       "      <td>...</td>\n",
       "      <td>0</td>\n",
       "      <td>0</td>\n",
       "      <td>0</td>\n",
       "      <td>1</td>\n",
       "      <td>0</td>\n",
       "      <td>0</td>\n",
       "      <td>0</td>\n",
       "      <td>0</td>\n",
       "      <td>0</td>\n",
       "      <td>fantasy world right drako yau chairman game de...</td>\n",
       "    </tr>\n",
       "    <tr>\n",
       "      <th>3</th>\n",
       "      <td>A train journey to escape from reality.“Is it ...</td>\n",
       "      <td>0</td>\n",
       "      <td>0</td>\n",
       "      <td>0</td>\n",
       "      <td>1</td>\n",
       "      <td>0</td>\n",
       "      <td>0</td>\n",
       "      <td>0</td>\n",
       "      <td>0</td>\n",
       "      <td>0</td>\n",
       "      <td>...</td>\n",
       "      <td>0</td>\n",
       "      <td>0</td>\n",
       "      <td>0</td>\n",
       "      <td>0</td>\n",
       "      <td>1</td>\n",
       "      <td>0</td>\n",
       "      <td>0</td>\n",
       "      <td>0</td>\n",
       "      <td>0</td>\n",
       "      <td>train journey escape realityis dreamwhen came ...</td>\n",
       "    </tr>\n",
       "    <tr>\n",
       "      <th>4</th>\n",
       "      <td>After being hit by a car, she suddenly found h...</td>\n",
       "      <td>1</td>\n",
       "      <td>0</td>\n",
       "      <td>1</td>\n",
       "      <td>0</td>\n",
       "      <td>0</td>\n",
       "      <td>1</td>\n",
       "      <td>1</td>\n",
       "      <td>0</td>\n",
       "      <td>1</td>\n",
       "      <td>...</td>\n",
       "      <td>0</td>\n",
       "      <td>0</td>\n",
       "      <td>0</td>\n",
       "      <td>1</td>\n",
       "      <td>0</td>\n",
       "      <td>0</td>\n",
       "      <td>0</td>\n",
       "      <td>0</td>\n",
       "      <td>0</td>\n",
       "      <td>hit car suddenly found afterlife thought reaso...</td>\n",
       "    </tr>\n",
       "    <tr>\n",
       "      <th>...</th>\n",
       "      <td>...</td>\n",
       "      <td>...</td>\n",
       "      <td>...</td>\n",
       "      <td>...</td>\n",
       "      <td>...</td>\n",
       "      <td>...</td>\n",
       "      <td>...</td>\n",
       "      <td>...</td>\n",
       "      <td>...</td>\n",
       "      <td>...</td>\n",
       "      <td>...</td>\n",
       "      <td>...</td>\n",
       "      <td>...</td>\n",
       "      <td>...</td>\n",
       "      <td>...</td>\n",
       "      <td>...</td>\n",
       "      <td>...</td>\n",
       "      <td>...</td>\n",
       "      <td>...</td>\n",
       "      <td>...</td>\n",
       "      <td>...</td>\n",
       "    </tr>\n",
       "    <tr>\n",
       "      <th>1361</th>\n",
       "      <td>Diablo Volfir, a mighty magician, was sealed f...</td>\n",
       "      <td>1</td>\n",
       "      <td>0</td>\n",
       "      <td>0</td>\n",
       "      <td>0</td>\n",
       "      <td>0</td>\n",
       "      <td>0</td>\n",
       "      <td>1</td>\n",
       "      <td>0</td>\n",
       "      <td>0</td>\n",
       "      <td>...</td>\n",
       "      <td>0</td>\n",
       "      <td>0</td>\n",
       "      <td>1</td>\n",
       "      <td>0</td>\n",
       "      <td>0</td>\n",
       "      <td>0</td>\n",
       "      <td>0</td>\n",
       "      <td>0</td>\n",
       "      <td>0</td>\n",
       "      <td>diablo volfir mighty magician sealed aeons due...</td>\n",
       "    </tr>\n",
       "    <tr>\n",
       "      <th>1362</th>\n",
       "      <td>Beryl Gardernant is a humble sword master who ...</td>\n",
       "      <td>1</td>\n",
       "      <td>0</td>\n",
       "      <td>1</td>\n",
       "      <td>1</td>\n",
       "      <td>0</td>\n",
       "      <td>0</td>\n",
       "      <td>1</td>\n",
       "      <td>0</td>\n",
       "      <td>1</td>\n",
       "      <td>...</td>\n",
       "      <td>0</td>\n",
       "      <td>0</td>\n",
       "      <td>0</td>\n",
       "      <td>0</td>\n",
       "      <td>0</td>\n",
       "      <td>0</td>\n",
       "      <td>0</td>\n",
       "      <td>0</td>\n",
       "      <td>0</td>\n",
       "      <td>beryl gardernant humble sword master runs dojo...</td>\n",
       "    </tr>\n",
       "    <tr>\n",
       "      <th>1363</th>\n",
       "      <td>Fantasy World [The Demon King is Dead], a stor...</td>\n",
       "      <td>1</td>\n",
       "      <td>0</td>\n",
       "      <td>0</td>\n",
       "      <td>0</td>\n",
       "      <td>0</td>\n",
       "      <td>0</td>\n",
       "      <td>1</td>\n",
       "      <td>0</td>\n",
       "      <td>0</td>\n",
       "      <td>...</td>\n",
       "      <td>1</td>\n",
       "      <td>0</td>\n",
       "      <td>0</td>\n",
       "      <td>0</td>\n",
       "      <td>0</td>\n",
       "      <td>0</td>\n",
       "      <td>0</td>\n",
       "      <td>1</td>\n",
       "      <td>0</td>\n",
       "      <td>fantasy world demon king dead story demon king...</td>\n",
       "    </tr>\n",
       "    <tr>\n",
       "      <th>1364</th>\n",
       "      <td>Gu Wen Jing is a good actor by nature and has ...</td>\n",
       "      <td>1</td>\n",
       "      <td>0</td>\n",
       "      <td>1</td>\n",
       "      <td>0</td>\n",
       "      <td>0</td>\n",
       "      <td>0</td>\n",
       "      <td>1</td>\n",
       "      <td>0</td>\n",
       "      <td>1</td>\n",
       "      <td>...</td>\n",
       "      <td>0</td>\n",
       "      <td>1</td>\n",
       "      <td>0</td>\n",
       "      <td>0</td>\n",
       "      <td>0</td>\n",
       "      <td>0</td>\n",
       "      <td>0</td>\n",
       "      <td>0</td>\n",
       "      <td>0</td>\n",
       "      <td>gu wen jing good actor nature pair golden eyes...</td>\n",
       "    </tr>\n",
       "    <tr>\n",
       "      <th>1365</th>\n",
       "      <td>In the Kingdom of Highland, a country where fa...</td>\n",
       "      <td>1</td>\n",
       "      <td>0</td>\n",
       "      <td>0</td>\n",
       "      <td>0</td>\n",
       "      <td>0</td>\n",
       "      <td>0</td>\n",
       "      <td>1</td>\n",
       "      <td>0</td>\n",
       "      <td>0</td>\n",
       "      <td>...</td>\n",
       "      <td>1</td>\n",
       "      <td>0</td>\n",
       "      <td>0</td>\n",
       "      <td>0</td>\n",
       "      <td>0</td>\n",
       "      <td>0</td>\n",
       "      <td>0</td>\n",
       "      <td>1</td>\n",
       "      <td>0</td>\n",
       "      <td>kingdom highland country fairies saves humans ...</td>\n",
       "    </tr>\n",
       "  </tbody>\n",
       "</table>\n",
       "<p>1366 rows × 27 columns</p>\n",
       "</div>"
      ],
      "text/plain": [
       "                                           descriptions  Action  Adult  \\\n",
       "0     Fantasy World One day, Chen Caixing entered in...       1      0   \n",
       "1     I’d been reincarnated as the heroine of a pred...       1      0   \n",
       "2     Fantasy World Right when Drako Yau, the chairm...       1      0   \n",
       "3     A train journey to escape from reality.“Is it ...       0      0   \n",
       "4     After being hit by a car, she suddenly found h...       1      0   \n",
       "...                                                 ...     ...    ...   \n",
       "1361  Diablo Volfir, a mighty magician, was sealed f...       1      0   \n",
       "1362  Beryl Gardernant is a humble sword master who ...       1      0   \n",
       "1363  Fantasy World [The Demon King is Dead], a stor...       1      0   \n",
       "1364  Gu Wen Jing is a good actor by nature and has ...       1      0   \n",
       "1365  In the Kingdom of Highland, a country where fa...       1      0   \n",
       "\n",
       "      Adventure  Comedy  Drama  Ecchi  Fantasy  Gender Bender  Harem  ...  \\\n",
       "0             1       0      0      0        1              0      1  ...   \n",
       "1             1       0      0      0        1              0      1  ...   \n",
       "2             1       1      0      0        1              0      1  ...   \n",
       "3             0       1      0      0        0              0      0  ...   \n",
       "4             1       0      0      1        1              0      1  ...   \n",
       "...         ...     ...    ...    ...      ...            ...    ...  ...   \n",
       "1361          0       0      0      0        1              0      0  ...   \n",
       "1362          1       1      0      0        1              0      1  ...   \n",
       "1363          0       0      0      0        1              0      0  ...   \n",
       "1364          1       0      0      0        1              0      1  ...   \n",
       "1365          0       0      0      0        1              0      0  ...   \n",
       "\n",
       "      Sci-fi  Seinen  Shoujo Ai  Shounen  Shounen Ai  Slice of Life  Smut  \\\n",
       "0          0       0          0        1           0              0     0   \n",
       "1          0       1          0        0           0              0     0   \n",
       "2          0       0          0        1           0              0     0   \n",
       "3          0       0          0        0           1              0     0   \n",
       "4          0       0          0        1           0              0     0   \n",
       "...      ...     ...        ...      ...         ...            ...   ...   \n",
       "1361       0       0          1        0           0              0     0   \n",
       "1362       0       0          0        0           0              0     0   \n",
       "1363       1       0          0        0           0              0     0   \n",
       "1364       0       1          0        0           0              0     0   \n",
       "1365       1       0          0        0           0              0     0   \n",
       "\n",
       "      Supernatural  Yaoi                               descriptions_cleaned  \n",
       "0                0     0  fantasy world one day chen caixing entered wor...  \n",
       "1                0     0  id reincarnated heroine predictable thirdrate ...  \n",
       "2                0     0  fantasy world right drako yau chairman game de...  \n",
       "3                0     0  train journey escape realityis dreamwhen came ...  \n",
       "4                0     0  hit car suddenly found afterlife thought reaso...  \n",
       "...            ...   ...                                                ...  \n",
       "1361             0     0  diablo volfir mighty magician sealed aeons due...  \n",
       "1362             0     0  beryl gardernant humble sword master runs dojo...  \n",
       "1363             1     0  fantasy world demon king dead story demon king...  \n",
       "1364             0     0  gu wen jing good actor nature pair golden eyes...  \n",
       "1365             1     0  kingdom highland country fairies saves humans ...  \n",
       "\n",
       "[1366 rows x 27 columns]"
      ]
     },
     "execution_count": 20,
     "metadata": {},
     "output_type": "execute_result"
    }
   ],
   "source": [
    "df_processed = df_processed.sample(df_processed.shape[0], random_state=43)\n",
    "df_processed = df_processed.reset_index(drop=True)\n",
    "df_processed"
   ]
  },
  {
   "cell_type": "markdown",
   "id": "b451c541",
   "metadata": {},
   "source": [
    "**Splitting the data into 10% testing**"
   ]
  },
  {
   "cell_type": "code",
   "execution_count": 21,
   "id": "a6d6a0ab",
   "metadata": {},
   "outputs": [],
   "source": [
    "percent = 0.9 \n",
    "num_training_examples = int(df_processed.shape[0]*percent)\n",
    "df_train = df_processed.iloc[:num_training_examples]\n",
    "df_test = df_processed.iloc[num_training_examples:]"
   ]
  },
  {
   "cell_type": "markdown",
   "id": "a9d3de18",
   "metadata": {},
   "source": [
    "*Looking at the number of training and testing examples*"
   ]
  },
  {
   "cell_type": "code",
   "execution_count": 22,
   "id": "0f7a8411",
   "metadata": {},
   "outputs": [
    {
     "data": {
      "text/plain": [
       "(1229, 27)"
      ]
     },
     "execution_count": 22,
     "metadata": {},
     "output_type": "execute_result"
    }
   ],
   "source": [
    "df_train.shape"
   ]
  },
  {
   "cell_type": "code",
   "execution_count": 23,
   "id": "369c5d38",
   "metadata": {},
   "outputs": [
    {
     "data": {
      "text/plain": [
       "(137, 27)"
      ]
     },
     "execution_count": 23,
     "metadata": {},
     "output_type": "execute_result"
    }
   ],
   "source": [
    "df_test.shape"
   ]
  },
  {
   "cell_type": "markdown",
   "id": "a5fe7977",
   "metadata": {},
   "source": [
    "**Creating X_train, X_test, y_train, and y_test for cleaned and not cleaned data**"
   ]
  },
  {
   "cell_type": "code",
   "execution_count": 24,
   "id": "80fd4ce1",
   "metadata": {},
   "outputs": [],
   "source": [
    "# Saving the whole dataset to a X and y variables for leave-one-out analysis later\n",
    "X_raw = df_processed['descriptions']\n",
    "X_clean = df_processed['descriptions_cleaned']\n",
    "y = df_processed[[*genres_set]]\n",
    "\n",
    "### Creating the training and testing sets\n",
    "\n",
    "X_train_raw = df_train['descriptions']\n",
    "X_train_clean = df_train['descriptions_cleaned']\n",
    "\n",
    "X_test_raw = df_test['descriptions']\n",
    "X_test_clean = df_test['descriptions_cleaned']\n",
    "\n",
    "# We just use the labels and not the actual text\n",
    "y_train = df_train[[*genres_set]]\n",
    "y_test = df_test[[*genres_set]]"
   ]
  },
  {
   "cell_type": "markdown",
   "id": "ef562ee0",
   "metadata": {},
   "source": [
    "*Taking a look the testing and training sets looks like*"
   ]
  },
  {
   "cell_type": "code",
   "execution_count": 25,
   "id": "eed74032",
   "metadata": {},
   "outputs": [
    {
     "data": {
      "text/plain": [
       "0       Fantasy World One day, Chen Caixing entered in...\n",
       "1       I’d been reincarnated as the heroine of a pred...\n",
       "2       Fantasy World Right when Drako Yau, the chairm...\n",
       "3       A train journey to escape from reality.“Is it ...\n",
       "4       After being hit by a car, she suddenly found h...\n",
       "                              ...                        \n",
       "1224    Man-eating ghosts lurking in Victorian’s haunt...\n",
       "1225    Fantasy World Partisan disputes in the empire ...\n",
       "1226    He was a F-rank Hunter. To top it off, he was ...\n",
       "1227    Fantasy World A miracle doctor is exiled to an...\n",
       "1228    Dragged by the quarrel between brother of a co...\n",
       "Name: descriptions, Length: 1229, dtype: string"
      ]
     },
     "execution_count": 25,
     "metadata": {},
     "output_type": "execute_result"
    }
   ],
   "source": [
    "X_train_raw"
   ]
  },
  {
   "cell_type": "code",
   "execution_count": 26,
   "id": "bd687be1",
   "metadata": {},
   "outputs": [
    {
     "data": {
      "text/plain": [
       "0       fantasy world one day chen caixing entered wor...\n",
       "1       id reincarnated heroine predictable thirdrate ...\n",
       "2       fantasy world right drako yau chairman game de...\n",
       "3       train journey escape realityis dreamwhen came ...\n",
       "4       hit car suddenly found afterlife thought reaso...\n",
       "                              ...                        \n",
       "1224    maneating ghosts lurking victorians haunted ho...\n",
       "1225    fantasy world partisan disputes empire made ev...\n",
       "1226    frank hunter top useless frank loser hyung dra...\n",
       "1227    fantasy world miracle doctor exiled alternate ...\n",
       "1228    dragged quarrel brother count certain remote r...\n",
       "Name: descriptions_cleaned, Length: 1229, dtype: object"
      ]
     },
     "execution_count": 26,
     "metadata": {},
     "output_type": "execute_result"
    }
   ],
   "source": [
    "X_train_clean"
   ]
  },
  {
   "cell_type": "code",
   "execution_count": 27,
   "id": "20801c3c",
   "metadata": {},
   "outputs": [
    {
     "data": {
      "text/plain": [
       "1229    Monster Soul Online.A virtual reality MMORPG k...\n",
       "1230    The end of all worlds approach.The Demon King ...\n",
       "1231    After waking up one day, Bruce Lite found hims...\n",
       "1232    Arisugawa Kyoko, a self-proclaimed ordinary hi...\n",
       "1233    When Li Shen’s second personality acts out, he...\n",
       "                              ...                        \n",
       "1361    Diablo Volfir, a mighty magician, was sealed f...\n",
       "1362    Beryl Gardernant is a humble sword master who ...\n",
       "1363    Fantasy World [The Demon King is Dead], a stor...\n",
       "1364    Gu Wen Jing is a good actor by nature and has ...\n",
       "1365    In the Kingdom of Highland, a country where fa...\n",
       "Name: descriptions, Length: 137, dtype: string"
      ]
     },
     "execution_count": 27,
     "metadata": {},
     "output_type": "execute_result"
    }
   ],
   "source": [
    "X_test_raw"
   ]
  },
  {
   "cell_type": "code",
   "execution_count": 28,
   "id": "1cf9d792",
   "metadata": {},
   "outputs": [
    {
     "data": {
      "text/plain": [
       "1229    monster soul onlinea virtual reality mmorpg kn...\n",
       "1230    end worlds approachthe demon king order harves...\n",
       "1231    waking one day bruce lite found possessing bod...\n",
       "1232    arisugawa kyoko selfproclaimed ordinary high s...\n",
       "1233    li shens second personality acts consciousness...\n",
       "                              ...                        \n",
       "1361    diablo volfir mighty magician sealed aeons due...\n",
       "1362    beryl gardernant humble sword master runs dojo...\n",
       "1363    fantasy world demon king dead story demon king...\n",
       "1364    gu wen jing good actor nature pair golden eyes...\n",
       "1365    kingdom highland country fairies saves humans ...\n",
       "Name: descriptions_cleaned, Length: 137, dtype: object"
      ]
     },
     "execution_count": 28,
     "metadata": {},
     "output_type": "execute_result"
    }
   ],
   "source": [
    "X_test_clean"
   ]
  },
  {
   "cell_type": "code",
   "execution_count": 29,
   "id": "268cacee",
   "metadata": {},
   "outputs": [
    {
     "data": {
      "text/html": [
       "<div>\n",
       "<style scoped>\n",
       "    .dataframe tbody tr th:only-of-type {\n",
       "        vertical-align: middle;\n",
       "    }\n",
       "\n",
       "    .dataframe tbody tr th {\n",
       "        vertical-align: top;\n",
       "    }\n",
       "\n",
       "    .dataframe thead th {\n",
       "        text-align: right;\n",
       "    }\n",
       "</style>\n",
       "<table border=\"1\" class=\"dataframe\">\n",
       "  <thead>\n",
       "    <tr style=\"text-align: right;\">\n",
       "      <th></th>\n",
       "      <th>Action</th>\n",
       "      <th>Adult</th>\n",
       "      <th>Adventure</th>\n",
       "      <th>Comedy</th>\n",
       "      <th>Drama</th>\n",
       "      <th>Ecchi</th>\n",
       "      <th>Fantasy</th>\n",
       "      <th>Gender Bender</th>\n",
       "      <th>Harem</th>\n",
       "      <th>Horror</th>\n",
       "      <th>...</th>\n",
       "      <th>School Life</th>\n",
       "      <th>Sci-fi</th>\n",
       "      <th>Seinen</th>\n",
       "      <th>Shoujo Ai</th>\n",
       "      <th>Shounen</th>\n",
       "      <th>Shounen Ai</th>\n",
       "      <th>Slice of Life</th>\n",
       "      <th>Smut</th>\n",
       "      <th>Supernatural</th>\n",
       "      <th>Yaoi</th>\n",
       "    </tr>\n",
       "  </thead>\n",
       "  <tbody>\n",
       "    <tr>\n",
       "      <th>0</th>\n",
       "      <td>1</td>\n",
       "      <td>0</td>\n",
       "      <td>1</td>\n",
       "      <td>0</td>\n",
       "      <td>0</td>\n",
       "      <td>0</td>\n",
       "      <td>1</td>\n",
       "      <td>0</td>\n",
       "      <td>1</td>\n",
       "      <td>0</td>\n",
       "      <td>...</td>\n",
       "      <td>0</td>\n",
       "      <td>0</td>\n",
       "      <td>0</td>\n",
       "      <td>0</td>\n",
       "      <td>1</td>\n",
       "      <td>0</td>\n",
       "      <td>0</td>\n",
       "      <td>0</td>\n",
       "      <td>0</td>\n",
       "      <td>0</td>\n",
       "    </tr>\n",
       "    <tr>\n",
       "      <th>1</th>\n",
       "      <td>1</td>\n",
       "      <td>0</td>\n",
       "      <td>1</td>\n",
       "      <td>0</td>\n",
       "      <td>0</td>\n",
       "      <td>0</td>\n",
       "      <td>1</td>\n",
       "      <td>0</td>\n",
       "      <td>1</td>\n",
       "      <td>0</td>\n",
       "      <td>...</td>\n",
       "      <td>0</td>\n",
       "      <td>0</td>\n",
       "      <td>1</td>\n",
       "      <td>0</td>\n",
       "      <td>0</td>\n",
       "      <td>0</td>\n",
       "      <td>0</td>\n",
       "      <td>0</td>\n",
       "      <td>0</td>\n",
       "      <td>0</td>\n",
       "    </tr>\n",
       "    <tr>\n",
       "      <th>2</th>\n",
       "      <td>1</td>\n",
       "      <td>0</td>\n",
       "      <td>1</td>\n",
       "      <td>1</td>\n",
       "      <td>0</td>\n",
       "      <td>0</td>\n",
       "      <td>1</td>\n",
       "      <td>0</td>\n",
       "      <td>1</td>\n",
       "      <td>0</td>\n",
       "      <td>...</td>\n",
       "      <td>0</td>\n",
       "      <td>0</td>\n",
       "      <td>0</td>\n",
       "      <td>0</td>\n",
       "      <td>1</td>\n",
       "      <td>0</td>\n",
       "      <td>0</td>\n",
       "      <td>0</td>\n",
       "      <td>0</td>\n",
       "      <td>0</td>\n",
       "    </tr>\n",
       "    <tr>\n",
       "      <th>3</th>\n",
       "      <td>0</td>\n",
       "      <td>0</td>\n",
       "      <td>0</td>\n",
       "      <td>1</td>\n",
       "      <td>0</td>\n",
       "      <td>0</td>\n",
       "      <td>0</td>\n",
       "      <td>0</td>\n",
       "      <td>0</td>\n",
       "      <td>0</td>\n",
       "      <td>...</td>\n",
       "      <td>0</td>\n",
       "      <td>0</td>\n",
       "      <td>0</td>\n",
       "      <td>0</td>\n",
       "      <td>0</td>\n",
       "      <td>1</td>\n",
       "      <td>0</td>\n",
       "      <td>0</td>\n",
       "      <td>0</td>\n",
       "      <td>0</td>\n",
       "    </tr>\n",
       "    <tr>\n",
       "      <th>4</th>\n",
       "      <td>1</td>\n",
       "      <td>0</td>\n",
       "      <td>1</td>\n",
       "      <td>0</td>\n",
       "      <td>0</td>\n",
       "      <td>1</td>\n",
       "      <td>1</td>\n",
       "      <td>0</td>\n",
       "      <td>1</td>\n",
       "      <td>0</td>\n",
       "      <td>...</td>\n",
       "      <td>0</td>\n",
       "      <td>0</td>\n",
       "      <td>0</td>\n",
       "      <td>0</td>\n",
       "      <td>1</td>\n",
       "      <td>0</td>\n",
       "      <td>0</td>\n",
       "      <td>0</td>\n",
       "      <td>0</td>\n",
       "      <td>0</td>\n",
       "    </tr>\n",
       "    <tr>\n",
       "      <th>...</th>\n",
       "      <td>...</td>\n",
       "      <td>...</td>\n",
       "      <td>...</td>\n",
       "      <td>...</td>\n",
       "      <td>...</td>\n",
       "      <td>...</td>\n",
       "      <td>...</td>\n",
       "      <td>...</td>\n",
       "      <td>...</td>\n",
       "      <td>...</td>\n",
       "      <td>...</td>\n",
       "      <td>...</td>\n",
       "      <td>...</td>\n",
       "      <td>...</td>\n",
       "      <td>...</td>\n",
       "      <td>...</td>\n",
       "      <td>...</td>\n",
       "      <td>...</td>\n",
       "      <td>...</td>\n",
       "      <td>...</td>\n",
       "      <td>...</td>\n",
       "    </tr>\n",
       "    <tr>\n",
       "      <th>1224</th>\n",
       "      <td>1</td>\n",
       "      <td>0</td>\n",
       "      <td>1</td>\n",
       "      <td>1</td>\n",
       "      <td>0</td>\n",
       "      <td>0</td>\n",
       "      <td>1</td>\n",
       "      <td>0</td>\n",
       "      <td>1</td>\n",
       "      <td>0</td>\n",
       "      <td>...</td>\n",
       "      <td>0</td>\n",
       "      <td>0</td>\n",
       "      <td>0</td>\n",
       "      <td>0</td>\n",
       "      <td>0</td>\n",
       "      <td>0</td>\n",
       "      <td>0</td>\n",
       "      <td>0</td>\n",
       "      <td>0</td>\n",
       "      <td>0</td>\n",
       "    </tr>\n",
       "    <tr>\n",
       "      <th>1225</th>\n",
       "      <td>1</td>\n",
       "      <td>0</td>\n",
       "      <td>1</td>\n",
       "      <td>1</td>\n",
       "      <td>0</td>\n",
       "      <td>0</td>\n",
       "      <td>1</td>\n",
       "      <td>0</td>\n",
       "      <td>1</td>\n",
       "      <td>0</td>\n",
       "      <td>...</td>\n",
       "      <td>0</td>\n",
       "      <td>0</td>\n",
       "      <td>0</td>\n",
       "      <td>0</td>\n",
       "      <td>0</td>\n",
       "      <td>0</td>\n",
       "      <td>0</td>\n",
       "      <td>0</td>\n",
       "      <td>0</td>\n",
       "      <td>0</td>\n",
       "    </tr>\n",
       "    <tr>\n",
       "      <th>1226</th>\n",
       "      <td>1</td>\n",
       "      <td>0</td>\n",
       "      <td>1</td>\n",
       "      <td>1</td>\n",
       "      <td>0</td>\n",
       "      <td>0</td>\n",
       "      <td>1</td>\n",
       "      <td>0</td>\n",
       "      <td>0</td>\n",
       "      <td>0</td>\n",
       "      <td>...</td>\n",
       "      <td>0</td>\n",
       "      <td>0</td>\n",
       "      <td>0</td>\n",
       "      <td>0</td>\n",
       "      <td>1</td>\n",
       "      <td>0</td>\n",
       "      <td>0</td>\n",
       "      <td>0</td>\n",
       "      <td>0</td>\n",
       "      <td>0</td>\n",
       "    </tr>\n",
       "    <tr>\n",
       "      <th>1227</th>\n",
       "      <td>0</td>\n",
       "      <td>0</td>\n",
       "      <td>1</td>\n",
       "      <td>0</td>\n",
       "      <td>0</td>\n",
       "      <td>0</td>\n",
       "      <td>1</td>\n",
       "      <td>0</td>\n",
       "      <td>0</td>\n",
       "      <td>0</td>\n",
       "      <td>...</td>\n",
       "      <td>0</td>\n",
       "      <td>0</td>\n",
       "      <td>0</td>\n",
       "      <td>0</td>\n",
       "      <td>1</td>\n",
       "      <td>0</td>\n",
       "      <td>1</td>\n",
       "      <td>0</td>\n",
       "      <td>0</td>\n",
       "      <td>0</td>\n",
       "    </tr>\n",
       "    <tr>\n",
       "      <th>1228</th>\n",
       "      <td>1</td>\n",
       "      <td>0</td>\n",
       "      <td>1</td>\n",
       "      <td>0</td>\n",
       "      <td>0</td>\n",
       "      <td>0</td>\n",
       "      <td>1</td>\n",
       "      <td>0</td>\n",
       "      <td>0</td>\n",
       "      <td>0</td>\n",
       "      <td>...</td>\n",
       "      <td>0</td>\n",
       "      <td>0</td>\n",
       "      <td>0</td>\n",
       "      <td>0</td>\n",
       "      <td>0</td>\n",
       "      <td>0</td>\n",
       "      <td>0</td>\n",
       "      <td>0</td>\n",
       "      <td>0</td>\n",
       "      <td>0</td>\n",
       "    </tr>\n",
       "  </tbody>\n",
       "</table>\n",
       "<p>1229 rows × 25 columns</p>\n",
       "</div>"
      ],
      "text/plain": [
       "      Action  Adult  Adventure  Comedy  Drama  Ecchi  Fantasy  Gender Bender  \\\n",
       "0          1      0          1       0      0      0        1              0   \n",
       "1          1      0          1       0      0      0        1              0   \n",
       "2          1      0          1       1      0      0        1              0   \n",
       "3          0      0          0       1      0      0        0              0   \n",
       "4          1      0          1       0      0      1        1              0   \n",
       "...      ...    ...        ...     ...    ...    ...      ...            ...   \n",
       "1224       1      0          1       1      0      0        1              0   \n",
       "1225       1      0          1       1      0      0        1              0   \n",
       "1226       1      0          1       1      0      0        1              0   \n",
       "1227       0      0          1       0      0      0        1              0   \n",
       "1228       1      0          1       0      0      0        1              0   \n",
       "\n",
       "      Harem  Horror  ...  School Life  Sci-fi  Seinen  Shoujo Ai  Shounen  \\\n",
       "0         1       0  ...            0       0       0          0        1   \n",
       "1         1       0  ...            0       0       1          0        0   \n",
       "2         1       0  ...            0       0       0          0        1   \n",
       "3         0       0  ...            0       0       0          0        0   \n",
       "4         1       0  ...            0       0       0          0        1   \n",
       "...     ...     ...  ...          ...     ...     ...        ...      ...   \n",
       "1224      1       0  ...            0       0       0          0        0   \n",
       "1225      1       0  ...            0       0       0          0        0   \n",
       "1226      0       0  ...            0       0       0          0        1   \n",
       "1227      0       0  ...            0       0       0          0        1   \n",
       "1228      0       0  ...            0       0       0          0        0   \n",
       "\n",
       "      Shounen Ai  Slice of Life  Smut  Supernatural  Yaoi  \n",
       "0              0              0     0             0     0  \n",
       "1              0              0     0             0     0  \n",
       "2              0              0     0             0     0  \n",
       "3              1              0     0             0     0  \n",
       "4              0              0     0             0     0  \n",
       "...          ...            ...   ...           ...   ...  \n",
       "1224           0              0     0             0     0  \n",
       "1225           0              0     0             0     0  \n",
       "1226           0              0     0             0     0  \n",
       "1227           0              1     0             0     0  \n",
       "1228           0              0     0             0     0  \n",
       "\n",
       "[1229 rows x 25 columns]"
      ]
     },
     "execution_count": 29,
     "metadata": {},
     "output_type": "execute_result"
    }
   ],
   "source": [
    "y_train"
   ]
  },
  {
   "cell_type": "code",
   "execution_count": 30,
   "id": "1ccdcf4f",
   "metadata": {},
   "outputs": [
    {
     "data": {
      "text/html": [
       "<div>\n",
       "<style scoped>\n",
       "    .dataframe tbody tr th:only-of-type {\n",
       "        vertical-align: middle;\n",
       "    }\n",
       "\n",
       "    .dataframe tbody tr th {\n",
       "        vertical-align: top;\n",
       "    }\n",
       "\n",
       "    .dataframe thead th {\n",
       "        text-align: right;\n",
       "    }\n",
       "</style>\n",
       "<table border=\"1\" class=\"dataframe\">\n",
       "  <thead>\n",
       "    <tr style=\"text-align: right;\">\n",
       "      <th></th>\n",
       "      <th>Action</th>\n",
       "      <th>Adult</th>\n",
       "      <th>Adventure</th>\n",
       "      <th>Comedy</th>\n",
       "      <th>Drama</th>\n",
       "      <th>Ecchi</th>\n",
       "      <th>Fantasy</th>\n",
       "      <th>Gender Bender</th>\n",
       "      <th>Harem</th>\n",
       "      <th>Horror</th>\n",
       "      <th>...</th>\n",
       "      <th>School Life</th>\n",
       "      <th>Sci-fi</th>\n",
       "      <th>Seinen</th>\n",
       "      <th>Shoujo Ai</th>\n",
       "      <th>Shounen</th>\n",
       "      <th>Shounen Ai</th>\n",
       "      <th>Slice of Life</th>\n",
       "      <th>Smut</th>\n",
       "      <th>Supernatural</th>\n",
       "      <th>Yaoi</th>\n",
       "    </tr>\n",
       "  </thead>\n",
       "  <tbody>\n",
       "    <tr>\n",
       "      <th>1229</th>\n",
       "      <td>1</td>\n",
       "      <td>0</td>\n",
       "      <td>1</td>\n",
       "      <td>1</td>\n",
       "      <td>0</td>\n",
       "      <td>0</td>\n",
       "      <td>1</td>\n",
       "      <td>0</td>\n",
       "      <td>0</td>\n",
       "      <td>0</td>\n",
       "      <td>...</td>\n",
       "      <td>0</td>\n",
       "      <td>0</td>\n",
       "      <td>0</td>\n",
       "      <td>0</td>\n",
       "      <td>1</td>\n",
       "      <td>0</td>\n",
       "      <td>0</td>\n",
       "      <td>0</td>\n",
       "      <td>0</td>\n",
       "      <td>0</td>\n",
       "    </tr>\n",
       "    <tr>\n",
       "      <th>1230</th>\n",
       "      <td>1</td>\n",
       "      <td>0</td>\n",
       "      <td>1</td>\n",
       "      <td>0</td>\n",
       "      <td>0</td>\n",
       "      <td>0</td>\n",
       "      <td>1</td>\n",
       "      <td>0</td>\n",
       "      <td>0</td>\n",
       "      <td>0</td>\n",
       "      <td>...</td>\n",
       "      <td>0</td>\n",
       "      <td>0</td>\n",
       "      <td>0</td>\n",
       "      <td>0</td>\n",
       "      <td>0</td>\n",
       "      <td>0</td>\n",
       "      <td>0</td>\n",
       "      <td>0</td>\n",
       "      <td>0</td>\n",
       "      <td>0</td>\n",
       "    </tr>\n",
       "    <tr>\n",
       "      <th>1231</th>\n",
       "      <td>1</td>\n",
       "      <td>0</td>\n",
       "      <td>0</td>\n",
       "      <td>0</td>\n",
       "      <td>0</td>\n",
       "      <td>0</td>\n",
       "      <td>1</td>\n",
       "      <td>0</td>\n",
       "      <td>0</td>\n",
       "      <td>0</td>\n",
       "      <td>...</td>\n",
       "      <td>0</td>\n",
       "      <td>0</td>\n",
       "      <td>0</td>\n",
       "      <td>0</td>\n",
       "      <td>1</td>\n",
       "      <td>0</td>\n",
       "      <td>0</td>\n",
       "      <td>0</td>\n",
       "      <td>1</td>\n",
       "      <td>0</td>\n",
       "    </tr>\n",
       "    <tr>\n",
       "      <th>1232</th>\n",
       "      <td>1</td>\n",
       "      <td>0</td>\n",
       "      <td>0</td>\n",
       "      <td>0</td>\n",
       "      <td>0</td>\n",
       "      <td>0</td>\n",
       "      <td>1</td>\n",
       "      <td>0</td>\n",
       "      <td>0</td>\n",
       "      <td>0</td>\n",
       "      <td>...</td>\n",
       "      <td>1</td>\n",
       "      <td>1</td>\n",
       "      <td>0</td>\n",
       "      <td>0</td>\n",
       "      <td>0</td>\n",
       "      <td>0</td>\n",
       "      <td>0</td>\n",
       "      <td>0</td>\n",
       "      <td>1</td>\n",
       "      <td>0</td>\n",
       "    </tr>\n",
       "    <tr>\n",
       "      <th>1233</th>\n",
       "      <td>1</td>\n",
       "      <td>0</td>\n",
       "      <td>1</td>\n",
       "      <td>0</td>\n",
       "      <td>0</td>\n",
       "      <td>0</td>\n",
       "      <td>1</td>\n",
       "      <td>0</td>\n",
       "      <td>1</td>\n",
       "      <td>0</td>\n",
       "      <td>...</td>\n",
       "      <td>0</td>\n",
       "      <td>0</td>\n",
       "      <td>0</td>\n",
       "      <td>0</td>\n",
       "      <td>1</td>\n",
       "      <td>0</td>\n",
       "      <td>0</td>\n",
       "      <td>0</td>\n",
       "      <td>0</td>\n",
       "      <td>0</td>\n",
       "    </tr>\n",
       "    <tr>\n",
       "      <th>...</th>\n",
       "      <td>...</td>\n",
       "      <td>...</td>\n",
       "      <td>...</td>\n",
       "      <td>...</td>\n",
       "      <td>...</td>\n",
       "      <td>...</td>\n",
       "      <td>...</td>\n",
       "      <td>...</td>\n",
       "      <td>...</td>\n",
       "      <td>...</td>\n",
       "      <td>...</td>\n",
       "      <td>...</td>\n",
       "      <td>...</td>\n",
       "      <td>...</td>\n",
       "      <td>...</td>\n",
       "      <td>...</td>\n",
       "      <td>...</td>\n",
       "      <td>...</td>\n",
       "      <td>...</td>\n",
       "      <td>...</td>\n",
       "      <td>...</td>\n",
       "    </tr>\n",
       "    <tr>\n",
       "      <th>1361</th>\n",
       "      <td>1</td>\n",
       "      <td>0</td>\n",
       "      <td>0</td>\n",
       "      <td>0</td>\n",
       "      <td>0</td>\n",
       "      <td>0</td>\n",
       "      <td>1</td>\n",
       "      <td>0</td>\n",
       "      <td>0</td>\n",
       "      <td>0</td>\n",
       "      <td>...</td>\n",
       "      <td>0</td>\n",
       "      <td>0</td>\n",
       "      <td>0</td>\n",
       "      <td>1</td>\n",
       "      <td>0</td>\n",
       "      <td>0</td>\n",
       "      <td>0</td>\n",
       "      <td>0</td>\n",
       "      <td>0</td>\n",
       "      <td>0</td>\n",
       "    </tr>\n",
       "    <tr>\n",
       "      <th>1362</th>\n",
       "      <td>1</td>\n",
       "      <td>0</td>\n",
       "      <td>1</td>\n",
       "      <td>1</td>\n",
       "      <td>0</td>\n",
       "      <td>0</td>\n",
       "      <td>1</td>\n",
       "      <td>0</td>\n",
       "      <td>1</td>\n",
       "      <td>0</td>\n",
       "      <td>...</td>\n",
       "      <td>0</td>\n",
       "      <td>0</td>\n",
       "      <td>0</td>\n",
       "      <td>0</td>\n",
       "      <td>0</td>\n",
       "      <td>0</td>\n",
       "      <td>0</td>\n",
       "      <td>0</td>\n",
       "      <td>0</td>\n",
       "      <td>0</td>\n",
       "    </tr>\n",
       "    <tr>\n",
       "      <th>1363</th>\n",
       "      <td>1</td>\n",
       "      <td>0</td>\n",
       "      <td>0</td>\n",
       "      <td>0</td>\n",
       "      <td>0</td>\n",
       "      <td>0</td>\n",
       "      <td>1</td>\n",
       "      <td>0</td>\n",
       "      <td>0</td>\n",
       "      <td>0</td>\n",
       "      <td>...</td>\n",
       "      <td>1</td>\n",
       "      <td>1</td>\n",
       "      <td>0</td>\n",
       "      <td>0</td>\n",
       "      <td>0</td>\n",
       "      <td>0</td>\n",
       "      <td>0</td>\n",
       "      <td>0</td>\n",
       "      <td>1</td>\n",
       "      <td>0</td>\n",
       "    </tr>\n",
       "    <tr>\n",
       "      <th>1364</th>\n",
       "      <td>1</td>\n",
       "      <td>0</td>\n",
       "      <td>1</td>\n",
       "      <td>0</td>\n",
       "      <td>0</td>\n",
       "      <td>0</td>\n",
       "      <td>1</td>\n",
       "      <td>0</td>\n",
       "      <td>1</td>\n",
       "      <td>0</td>\n",
       "      <td>...</td>\n",
       "      <td>0</td>\n",
       "      <td>0</td>\n",
       "      <td>1</td>\n",
       "      <td>0</td>\n",
       "      <td>0</td>\n",
       "      <td>0</td>\n",
       "      <td>0</td>\n",
       "      <td>0</td>\n",
       "      <td>0</td>\n",
       "      <td>0</td>\n",
       "    </tr>\n",
       "    <tr>\n",
       "      <th>1365</th>\n",
       "      <td>1</td>\n",
       "      <td>0</td>\n",
       "      <td>0</td>\n",
       "      <td>0</td>\n",
       "      <td>0</td>\n",
       "      <td>0</td>\n",
       "      <td>1</td>\n",
       "      <td>0</td>\n",
       "      <td>0</td>\n",
       "      <td>0</td>\n",
       "      <td>...</td>\n",
       "      <td>1</td>\n",
       "      <td>1</td>\n",
       "      <td>0</td>\n",
       "      <td>0</td>\n",
       "      <td>0</td>\n",
       "      <td>0</td>\n",
       "      <td>0</td>\n",
       "      <td>0</td>\n",
       "      <td>1</td>\n",
       "      <td>0</td>\n",
       "    </tr>\n",
       "  </tbody>\n",
       "</table>\n",
       "<p>137 rows × 25 columns</p>\n",
       "</div>"
      ],
      "text/plain": [
       "      Action  Adult  Adventure  Comedy  Drama  Ecchi  Fantasy  Gender Bender  \\\n",
       "1229       1      0          1       1      0      0        1              0   \n",
       "1230       1      0          1       0      0      0        1              0   \n",
       "1231       1      0          0       0      0      0        1              0   \n",
       "1232       1      0          0       0      0      0        1              0   \n",
       "1233       1      0          1       0      0      0        1              0   \n",
       "...      ...    ...        ...     ...    ...    ...      ...            ...   \n",
       "1361       1      0          0       0      0      0        1              0   \n",
       "1362       1      0          1       1      0      0        1              0   \n",
       "1363       1      0          0       0      0      0        1              0   \n",
       "1364       1      0          1       0      0      0        1              0   \n",
       "1365       1      0          0       0      0      0        1              0   \n",
       "\n",
       "      Harem  Horror  ...  School Life  Sci-fi  Seinen  Shoujo Ai  Shounen  \\\n",
       "1229      0       0  ...            0       0       0          0        1   \n",
       "1230      0       0  ...            0       0       0          0        0   \n",
       "1231      0       0  ...            0       0       0          0        1   \n",
       "1232      0       0  ...            1       1       0          0        0   \n",
       "1233      1       0  ...            0       0       0          0        1   \n",
       "...     ...     ...  ...          ...     ...     ...        ...      ...   \n",
       "1361      0       0  ...            0       0       0          1        0   \n",
       "1362      1       0  ...            0       0       0          0        0   \n",
       "1363      0       0  ...            1       1       0          0        0   \n",
       "1364      1       0  ...            0       0       1          0        0   \n",
       "1365      0       0  ...            1       1       0          0        0   \n",
       "\n",
       "      Shounen Ai  Slice of Life  Smut  Supernatural  Yaoi  \n",
       "1229           0              0     0             0     0  \n",
       "1230           0              0     0             0     0  \n",
       "1231           0              0     0             1     0  \n",
       "1232           0              0     0             1     0  \n",
       "1233           0              0     0             0     0  \n",
       "...          ...            ...   ...           ...   ...  \n",
       "1361           0              0     0             0     0  \n",
       "1362           0              0     0             0     0  \n",
       "1363           0              0     0             1     0  \n",
       "1364           0              0     0             0     0  \n",
       "1365           0              0     0             1     0  \n",
       "\n",
       "[137 rows x 25 columns]"
      ]
     },
     "execution_count": 30,
     "metadata": {},
     "output_type": "execute_result"
    }
   ],
   "source": [
    "y_test"
   ]
  },
  {
   "cell_type": "markdown",
   "id": "bd4afb3d",
   "metadata": {},
   "source": [
    "#### Tokenizing the training and testing data"
   ]
  },
  {
   "cell_type": "code",
   "execution_count": 31,
   "id": "fda2a98e",
   "metadata": {},
   "outputs": [
    {
     "data": {
      "text/plain": [
       "<1229x15978 sparse matrix of type '<class 'numpy.int64'>'\n",
       "\twith 64542 stored elements in Compressed Sparse Row format>"
      ]
     },
     "execution_count": 31,
     "metadata": {},
     "output_type": "execute_result"
    }
   ],
   "source": [
    "# For raw data using the tfidf\n",
    "tfidf_raw = TfidfVectorizer()\n",
    "tfidf_raw.fit_transform(X_train_raw)\n",
    "\n",
    "# For clean data using the tfidf\n",
    "tfidf_clean = TfidfVectorizer()\n",
    "tfidf_clean.fit_transform(X_train_clean)\n",
    "\n",
    "# For raw data using the count vectorizer\n",
    "cv_raw = CountVectorizer()\n",
    "cv_raw.fit_transform(X_train_raw)\n",
    "\n",
    "# For raw data using the count vectorizer\n",
    "cv_clean = CountVectorizer()\n",
    "cv_clean.fit_transform(X_train_clean)"
   ]
  },
  {
   "cell_type": "markdown",
   "id": "9e20696b",
   "metadata": {},
   "source": [
    "## Machine Learning for Multi-Label"
   ]
  },
  {
   "cell_type": "code",
   "execution_count": 32,
   "id": "0b129093",
   "metadata": {},
   "outputs": [],
   "source": [
    "from sklearn.multioutput import MultiOutputClassifier # Multi-output wrapper import\n",
    "from sklearn.naive_bayes import MultinomialNB # Naive Bayes import\n",
    "from sklearn.svm import LinearSVC # Support Vector Machine import\n",
    "from sklearn.metrics import precision_score, recall_score, f1_score, accuracy_score # Metrics"
   ]
  },
  {
   "cell_type": "markdown",
   "id": "b8ba3591",
   "metadata": {},
   "source": [
    "Scikit-learn has two different wrapper that we can use to do Multi-Label classification:\n",
    " - MultiOutputClassifier\n",
    "     - https://scikit-learn.org/stable/modules/generated/sklearn.multioutput.MultiOutputClassifier.html\n",
    " - ClassifierChain\n",
    "     - https://scikit-learn.org/stable/modules/generated/sklearn.multioutput.ClassifierChain.html"
   ]
  },
  {
   "cell_type": "markdown",
   "id": "ecd03f5c",
   "metadata": {},
   "source": [
    "### Naive Bayes (Raw Data)\n",
    "**Using MultiOutputClassifier**"
   ]
  },
  {
   "cell_type": "code",
   "execution_count": 33,
   "id": "5f381d24",
   "metadata": {},
   "outputs": [
    {
     "data": {
      "text/plain": [
       "MultiOutputClassifier(estimator=MultinomialNB(), n_jobs=1)"
      ]
     },
     "execution_count": 33,
     "metadata": {},
     "output_type": "execute_result"
    }
   ],
   "source": [
    "model = MultiOutputClassifier( # Using the MultiOutputClassifier wrapper around the model we want to use\n",
    "    MultinomialNB(), # The model itself\n",
    "    n_jobs=1 # Number of CPU cores we want working on the model\n",
    ")\n",
    "# Training the model\n",
    "model.fit(\n",
    "    tfidf_raw.transform(X_train_raw), # Transforming the raw data into tfidf \n",
    "    y_train # Training labels\n",
    ")"
   ]
  },
  {
   "cell_type": "code",
   "execution_count": 34,
   "id": "2c10d5a1",
   "metadata": {},
   "outputs": [
    {
     "data": {
      "text/plain": [
       "array([[1, 0, 1, ..., 0, 0, 0],\n",
       "       [1, 0, 1, ..., 0, 0, 0],\n",
       "       [1, 0, 1, ..., 0, 0, 0],\n",
       "       ...,\n",
       "       [1, 0, 1, ..., 0, 0, 0],\n",
       "       [1, 0, 1, ..., 0, 0, 0],\n",
       "       [1, 0, 1, ..., 0, 0, 0]], dtype=int64)"
      ]
     },
     "execution_count": 34,
     "metadata": {},
     "output_type": "execute_result"
    }
   ],
   "source": [
    "# Making predictions on the testing data\n",
    "y_pred = model.predict(\n",
    "    tfidf_raw.transform(X_test_raw) # Tranforming the testing data to make a prediction on\n",
    ")\n",
    "# Looking at what the model predicted\n",
    "y_pred"
   ]
  },
  {
   "cell_type": "markdown",
   "id": "dcf499fe",
   "metadata": {},
   "source": [
    "**Checking Metrics**"
   ]
  },
  {
   "cell_type": "code",
   "execution_count": 35,
   "id": "a53b5bbd",
   "metadata": {},
   "outputs": [
    {
     "name": "stdout",
     "output_type": "stream",
     "text": [
      "               precision    recall  f1-score   support\n",
      "\n",
      "       Action       0.69      1.00      0.81        94\n",
      "        Adult       0.00      0.00      0.00         5\n",
      "    Adventure       0.69      1.00      0.81        94\n",
      "       Comedy       0.00      0.00      0.00        48\n",
      "        Drama       0.00      0.00      0.00         9\n",
      "        Ecchi       0.00      0.00      0.00         1\n",
      "      Fantasy       0.96      1.00      0.98       132\n",
      "Gender Bender       0.00      0.00      0.00         7\n",
      "        Harem       0.00      0.00      0.00        54\n",
      "       Horror       0.00      0.00      0.00         6\n",
      " Martial Arts       0.00      0.00      0.00        15\n",
      "       Mature       0.00      0.00      0.00        14\n",
      "        Mecha       0.00      0.00      0.00         4\n",
      "      Mystery       0.00      0.00      0.00         4\n",
      "      Romance       0.00      0.00      0.00        50\n",
      "  School Life       0.00      0.00      0.00        20\n",
      "       Sci-fi       0.00      0.00      0.00         8\n",
      "       Seinen       0.00      0.00      0.00        10\n",
      "    Shoujo Ai       0.00      0.00      0.00         4\n",
      "      Shounen       1.00      0.02      0.04        56\n",
      "   Shounen Ai       0.00      0.00      0.00         5\n",
      "Slice of Life       0.00      0.00      0.00        27\n",
      "         Smut       0.00      0.00      0.00        11\n",
      " Supernatural       0.00      0.00      0.00        26\n",
      "         Yaoi       0.00      0.00      0.00        12\n",
      "\n",
      "    micro avg       0.78      0.45      0.57       716\n",
      "    macro avg       0.13      0.12      0.11       716\n",
      " weighted avg       0.44      0.45      0.40       716\n",
      "  samples avg       0.78      0.47      0.57       716\n",
      "\n"
     ]
    }
   ],
   "source": [
    "print(classification_report(y_test.values.astype(int), y_pred, target_names=genres_set))"
   ]
  },
  {
   "cell_type": "markdown",
   "id": "a9c6cf56",
   "metadata": {},
   "source": [
    "This can be a lot to look at and confusing. "
   ]
  },
  {
   "cell_type": "markdown",
   "id": "db76d81f",
   "metadata": {},
   "source": [
    "What does **Precision**, **Recall**, and **F1-score** mean?"
   ]
  },
  {
   "attachments": {
    "efab4441-b035-4ebd-aa51-1c1bec4aae26.png": {
     "image/png": "[encoded data removed]"
    }
   },
   "cell_type": "markdown",
   "id": "be45c7d2",
   "metadata": {},
   "source": [
    "![image.png](attachment:efab4441-b035-4ebd-aa51-1c1bec4aae26.png)"
   ]
  },
  {
   "cell_type": "markdown",
   "id": "aae59ba6",
   "metadata": {},
   "source": [
    "#### In simpler terms: <br>\n",
    "**Precision** can be thought of as: Of the positive predictions, what fraction are correct? <br>\n",
    "**Recall** can be throught of as: Of the positive labels, what is the fraction that were predicted positive? <br>\n",
    "\n",
    "**F1-score** is just a harmonic mean between *precision* and *recall*"
   ]
  },
  {
   "cell_type": "markdown",
   "id": "f4930bef",
   "metadata": {},
   "source": [
    "There is a lot going on here. Depending on you're trying to optimize you might want to focus more on higher precision, recall, f1, or accuracy. "
   ]
  },
  {
   "cell_type": "code",
   "execution_count": 36,
   "id": "3a4fc345",
   "metadata": {},
   "outputs": [],
   "source": [
    "def smaller_classification_report(y_true, y_pred, floating_point = 2):\n",
    "    \"\"\"\n",
    "    Function to help us print a nicer classification if we just want selected metrics\n",
    "    \"\"\"\n",
    "    print(\"Accuracy \\t\\t{}\".format(round(accuracy_score(y_true, y_pred), floating_point)))\n",
    "    print(\"Precision (weighted) \\t{}\".format(round(precision_score(y_true, y_pred, average='weighted'), floating_point)))\n",
    "    print(\"Recall (weighted) \\t{}\".format(round(recall_score(y_true, y_pred, average='weighted'), floating_point)))\n",
    "    print(\"F1-score (weighted) \\t{}\".format(round(f1_score(y_true, y_pred, average='weighted'), floating_point)))"
   ]
  },
  {
   "cell_type": "code",
   "execution_count": 37,
   "id": "cb9851b4",
   "metadata": {},
   "outputs": [
    {
     "name": "stdout",
     "output_type": "stream",
     "text": [
      "Accuracy \t\t0.03\n",
      "Precision (weighted) \t0.44\n",
      "Recall (weighted) \t0.45\n",
      "F1-score (weighted) \t0.4\n"
     ]
    }
   ],
   "source": [
    "smaller_classification_report(y_test.values.astype(int), y_pred)"
   ]
  },
  {
   "cell_type": "markdown",
   "id": "42cdf86e",
   "metadata": {},
   "source": [
    "The **accuracy is very low** because accuracy is accounting for all 25 different genres present. If a plot has, for example, 7 genres associated with it and the model guesses 6 of them correctly, then that counts against the accuracy. This is why something like Precision, Recall, or F1-Score is better.  "
   ]
  },
  {
   "cell_type": "markdown",
   "id": "01017f7d",
   "metadata": {},
   "source": [
    "### Naive Bayes (Cleaned Data)\n",
    "**Using MultiOutputClassifier**"
   ]
  },
  {
   "cell_type": "markdown",
   "id": "5d7140c9",
   "metadata": {
    "tags": []
   },
   "source": [
    "Now I show the difference when we clean up the data a little bit. <br>\n",
    "*Try chaning tfidf_clean to cv_clean and see the difference*"
   ]
  },
  {
   "cell_type": "code",
   "execution_count": 38,
   "id": "ceb8ee16",
   "metadata": {},
   "outputs": [
    {
     "name": "stdout",
     "output_type": "stream",
     "text": [
      "Accuracy \t\t0.03\n",
      "Precision (weighted) \t0.47\n",
      "Recall (weighted) \t0.45\n",
      "F1-score (weighted) \t0.4\n"
     ]
    }
   ],
   "source": [
    "# Create the model\n",
    "model = MultiOutputClassifier(\n",
    "    MultinomialNB(), \n",
    "    n_jobs=1\n",
    ")\n",
    "# Train the model\n",
    "model.fit(\n",
    "    # cv_clean.transform(X_train_clean), # Uncomment to try and comment out below\n",
    "    tfidf_clean.transform(X_train_clean), \n",
    "    y_train\n",
    ")\n",
    "# Make predictions on the test data\n",
    "y_pred = model.predict(\n",
    "    #cv_clean.transform(X_test_clean), # Uncomment to try and comment out below\n",
    "    tfidf_clean.transform(X_test_clean) \n",
    ")\n",
    "# Check our metrics\n",
    "smaller_classification_report(y_test.values.astype(int), y_pred)"
   ]
  },
  {
   "cell_type": "markdown",
   "id": "87553290",
   "metadata": {},
   "source": [
    "Right now it's not much of a difference. The precision went up slightly and that's about it. "
   ]
  },
  {
   "cell_type": "markdown",
   "id": "6a968d45",
   "metadata": {},
   "source": [
    "### Using ClassifierChain with Naive Bayes"
   ]
  },
  {
   "cell_type": "code",
   "execution_count": 39,
   "id": "6d1b0216",
   "metadata": {},
   "outputs": [],
   "source": [
    "from sklearn.multioutput import ClassifierChain # Chain Classifier import"
   ]
  },
  {
   "cell_type": "code",
   "execution_count": 40,
   "id": "6c876c7f",
   "metadata": {},
   "outputs": [
    {
     "name": "stdout",
     "output_type": "stream",
     "text": [
      "Accuracy \t\t0.03\n",
      "Precision (weighted) \t0.44\n",
      "Recall (weighted) \t0.47\n",
      "F1-score (weighted) \t0.42\n"
     ]
    }
   ],
   "source": [
    "# Creating the chain model\n",
    "chain = ClassifierChain(\n",
    "    MultinomialNB(), \n",
    "    order='random', \n",
    "    random_state=0\n",
    ")\n",
    "# Training the model\n",
    "model = chain.fit(\n",
    "    # cv_clean.transform(X_train_clean), # Uncomment to try and comment out below\n",
    "    tfidf_clean.transform(X_train_clean), \n",
    "    y_train\n",
    ")\n",
    "# Making predictions\n",
    "y_pred = model.predict(\n",
    "    # cv_clean.transform(X_test_clean), # Uncomment to try and comment out below\n",
    "    tfidf_clean.transform(X_test_clean)\n",
    ")\n",
    "smaller_classification_report(y_test.values.astype(int), y_pred)"
   ]
  },
  {
   "cell_type": "markdown",
   "id": "550f80f3",
   "metadata": {},
   "source": [
    "Using the ClassifierChain may work slightly better in some instances. This is something that you have to experiment with is deciding which one to use. "
   ]
  },
  {
   "cell_type": "markdown",
   "id": "53a5967a",
   "metadata": {},
   "source": [
    "## Support Vector Machines"
   ]
  },
  {
   "cell_type": "markdown",
   "id": "a5caae3c",
   "metadata": {},
   "source": [
    "From now on, I will be using the cleaned data throughout the rest of this tutorial. You can play around with the raw data at any time too to see the difference."
   ]
  },
  {
   "cell_type": "markdown",
   "id": "eba25ac9",
   "metadata": {},
   "source": [
    "**Using MultiOutputClassifier** <br>\n",
    "**Using tfidf**"
   ]
  },
  {
   "cell_type": "code",
   "execution_count": 41,
   "id": "9f6e64aa",
   "metadata": {},
   "outputs": [
    {
     "name": "stdout",
     "output_type": "stream",
     "text": [
      "Accuracy \t\t0.01\n",
      "Precision (weighted) \t0.5\n",
      "Recall (weighted) \t0.5\n",
      "F1-score (weighted) \t0.48\n"
     ]
    }
   ],
   "source": [
    "# Create the model\n",
    "model = MultiOutputClassifier(\n",
    "    LinearSVC(random_state=43), \n",
    "    n_jobs=1\n",
    ")\n",
    "# Train the model\n",
    "model.fit(\n",
    "    # cv_clean.transform(X_train_clean), # Uncomment to try and comment out below\n",
    "    tfidf_clean.transform(X_train_clean), \n",
    "    y_train\n",
    ")\n",
    "# Make predictions on the test data\n",
    "y_pred = model.predict(\n",
    "    #cv_clean.transform(X_test_clean), # Uncomment to try and comment out below\n",
    "    tfidf_clean.transform(X_test_clean) \n",
    ")\n",
    "# Check our metrics\n",
    "smaller_classification_report(y_test.values.astype(int), y_pred)"
   ]
  },
  {
   "cell_type": "markdown",
   "id": "f8f133d9",
   "metadata": {},
   "source": [
    "**Using ClassifierChain** <br>\n",
    "**Using tfidf**"
   ]
  },
  {
   "cell_type": "code",
   "execution_count": 42,
   "id": "4ddb37cb",
   "metadata": {},
   "outputs": [
    {
     "name": "stdout",
     "output_type": "stream",
     "text": [
      "Accuracy \t\t0.01\n",
      "Precision (weighted) \t0.53\n",
      "Recall (weighted) \t0.41\n",
      "F1-score (weighted) \t0.41\n"
     ]
    }
   ],
   "source": [
    "# Creating the chain model\n",
    "chain = ClassifierChain(\n",
    "    LinearSVC(random_state=43), \n",
    "    order='random', \n",
    "    random_state=0\n",
    ")\n",
    "# Training the model\n",
    "model = chain.fit(\n",
    "    # cv_clean.transform(X_train_clean), # Uncomment to try and comment out below\n",
    "    tfidf_clean.transform(X_train_clean), \n",
    "    y_train\n",
    ")\n",
    "# Making predictions\n",
    "y_pred = model.predict(\n",
    "    # cv_clean.transform(X_test_clean), # Uncomment to try and comment out below\n",
    "    tfidf_clean.transform(X_test_clean)\n",
    ")\n",
    "smaller_classification_report(y_test.values.astype(int), y_pred)"
   ]
  },
  {
   "cell_type": "markdown",
   "id": "a9251ac9",
   "metadata": {},
   "source": [
    "### Turning the models into a function\n",
    "\n",
    "Instead of just constantly copying over the code, we can make a function with all the models to allow us to switch between some models and pre-processing steps"
   ]
  },
  {
   "cell_type": "code",
   "execution_count": 43,
   "id": "dc0b82f0",
   "metadata": {},
   "outputs": [],
   "source": [
    "def sklearn_model(model, X_train, y_train, X_test, y_test, pre_processing='tfidf', multi='chain'):\n",
    "    \"\"\"\n",
    "    This function takes in a scikit-learn model, testing and training data \n",
    "    and makes a predition on the testing data from the trained model on the\n",
    "    \n",
    "    args:\n",
    "        model:   scikit-learn model\n",
    "        X_train: training data\n",
    "        y_train: training labels\n",
    "        X_test:  testing data\n",
    "        y_test:  testing labels\n",
    "        pre_processing: specifies the kind of text pre-processing steps.\n",
    "            pre_processing='tfidf' (default)\n",
    "                - process the testing and training data with \n",
    "                    Term Frequency Inverse Document Frequency\n",
    "            pre_processing=(None|str)\n",
    "                - process the testing and training data with \n",
    "                    Count Vectorization\n",
    "        multi: specifies which multi-output technique to apply to the \n",
    "               scikit-learn model\n",
    "            multi='chain' (default)\n",
    "                - applies the ClassifierChain wrapper\n",
    "            multi=(None|str)\n",
    "                - applied the MultiOutputClassifier wrapper\n",
    "    \"\"\"\n",
    "    print(model, pre_processing, multi, '\\n')\n",
    "    \n",
    "    if multi=='chain':\n",
    "        multi_model = ClassifierChain(model, order='random', random_state=0)\n",
    "    else: # Count Vector\n",
    "        multi_model = MultiOutputClassifier(model, n_jobs=1)\n",
    "        \n",
    "    if pre_processing=='tfidf':\n",
    "        X_train = tfidf_clean.transform(X_train)\n",
    "        X_test = tfidf_clean.transform(X_test)\n",
    "    else: # Count Vector\n",
    "        X_train = cv_clean.transform(X_train)\n",
    "        X_test = cv_clean.transform(X_test)\n",
    "    # Training the model\n",
    "    model = multi_model.fit(\n",
    "        X_train,\n",
    "        y_train\n",
    "    )\n",
    "    # Making predictions\n",
    "    y_pred = model.predict(\n",
    "        X_test\n",
    "    )\n",
    "    smaller_classification_report(y_test, y_pred)"
   ]
  },
  {
   "cell_type": "markdown",
   "id": "f6dabd3f",
   "metadata": {},
   "source": [
    "*Note: this function is kind of crude and you can make a better one. This is just to show that it's usually more efficient to turn your whole model into a function (or class) object*"
   ]
  },
  {
   "cell_type": "markdown",
   "id": "a67d9d30",
   "metadata": {},
   "source": [
    "**Using MultiOutputClassifier** <br>\n",
    "**Using CountVector**"
   ]
  },
  {
   "cell_type": "code",
   "execution_count": 44,
   "id": "1ff6c3ad",
   "metadata": {},
   "outputs": [
    {
     "name": "stdout",
     "output_type": "stream",
     "text": [
      "LinearSVC() cv multi \n",
      "\n",
      "Accuracy \t\t0.0\n",
      "Precision (weighted) \t0.48\n",
      "Recall (weighted) \t0.49\n",
      "F1-score (weighted) \t0.49\n"
     ]
    }
   ],
   "source": [
    "sklearn_model(LinearSVC(), X_train_clean, y_train, X_test_clean, y_test, pre_processing='cv', multi=\"multi\")"
   ]
  },
  {
   "cell_type": "markdown",
   "id": "e5fe76ff",
   "metadata": {},
   "source": [
    "**Using ClassifierChain** <br>\n",
    "**Using CountVector**"
   ]
  },
  {
   "cell_type": "code",
   "execution_count": 45,
   "id": "cd826c8d",
   "metadata": {},
   "outputs": [
    {
     "name": "stdout",
     "output_type": "stream",
     "text": [
      "LinearSVC() cv chain \n",
      "\n",
      "Accuracy \t\t0.03\n",
      "Precision (weighted) \t0.51\n",
      "Recall (weighted) \t0.48\n",
      "F1-score (weighted) \t0.49\n"
     ]
    }
   ],
   "source": [
    "sklearn_model(LinearSVC(), X_train_clean, y_train, X_test_clean, y_test, pre_processing='cv')"
   ]
  },
  {
   "cell_type": "markdown",
   "id": "099d681c",
   "metadata": {},
   "source": [
    "### Logistic Regression "
   ]
  },
  {
   "cell_type": "code",
   "execution_count": 46,
   "id": "db5f8bd3",
   "metadata": {},
   "outputs": [],
   "source": [
    "from sklearn.linear_model import LogisticRegression # Logistic regression import"
   ]
  },
  {
   "cell_type": "code",
   "execution_count": 47,
   "id": "8aecc06f",
   "metadata": {},
   "outputs": [
    {
     "name": "stdout",
     "output_type": "stream",
     "text": [
      "LogisticRegression(class_weight='balanced') tfidf chain \n",
      "\n",
      "Accuracy \t\t0.02\n",
      "Precision (weighted) \t0.47\n",
      "Recall (weighted) \t0.54\n",
      "F1-score (weighted) \t0.49\n"
     ]
    }
   ],
   "source": [
    "sklearn_model(LogisticRegression(class_weight='balanced'), X_train_clean, y_train, X_test_clean, y_test, pre_processing='tfidf', multi='chain')"
   ]
  },
  {
   "cell_type": "code",
   "execution_count": 48,
   "id": "7a4f54d2",
   "metadata": {},
   "outputs": [
    {
     "name": "stdout",
     "output_type": "stream",
     "text": [
      "LogisticRegression(class_weight='balanced') cv chain \n",
      "\n",
      "Accuracy \t\t0.01\n",
      "Precision (weighted) \t0.49\n",
      "Recall (weighted) \t0.48\n",
      "F1-score (weighted) \t0.48\n"
     ]
    }
   ],
   "source": [
    "sklearn_model(LogisticRegression(class_weight='balanced'), X_train_clean, y_train, X_test_clean, y_test, pre_processing='cv', multi='chain')"
   ]
  },
  {
   "cell_type": "code",
   "execution_count": 49,
   "id": "d6aa2cfd",
   "metadata": {},
   "outputs": [
    {
     "name": "stdout",
     "output_type": "stream",
     "text": [
      "LogisticRegression(class_weight='balanced') cv multi \n",
      "\n",
      "Accuracy \t\t0.01\n",
      "Precision (weighted) \t0.49\n",
      "Recall (weighted) \t0.51\n",
      "F1-score (weighted) \t0.5\n"
     ]
    }
   ],
   "source": [
    "sklearn_model(LogisticRegression(class_weight='balanced'), X_train_clean, y_train, X_test_clean, y_test, pre_processing='cv', multi='multi')"
   ]
  },
  {
   "cell_type": "code",
   "execution_count": 50,
   "id": "bcf6303d",
   "metadata": {},
   "outputs": [
    {
     "name": "stdout",
     "output_type": "stream",
     "text": [
      "LogisticRegression(class_weight='balanced') tfidf multi \n",
      "\n",
      "Accuracy \t\t0.02\n",
      "Precision (weighted) \t0.51\n",
      "Recall (weighted) \t0.5\n",
      "F1-score (weighted) \t0.49\n"
     ]
    }
   ],
   "source": [
    "sklearn_model(LogisticRegression(class_weight='balanced'), X_train_clean, y_train, X_test_clean, y_test, pre_processing='tfidf', multi='multi')"
   ]
  },
  {
   "cell_type": "markdown",
   "id": "a18cf9dc",
   "metadata": {},
   "source": [
    "### Results"
   ]
  },
  {
   "cell_type": "markdown",
   "id": "19468477",
   "metadata": {},
   "source": [
    "| Model               | Best Accuracy | Best Precision | Best Recall | Best F1-Score |\n",
    "|---------------------|---------------|----------------|-------------|---------------|\n",
    "| Naive Bayes         | 0.03          | 0.47           | 0.47        | 0.42          |\n",
    "| SVM                 | 0.03          | 0.53           | 0.5         | 0.49          |\n",
    "| Logistic Regression | 0.02          | 0.51           | 0.54        | 0.5           |"
   ]
  },
  {
   "cell_type": "markdown",
   "id": "173b1d92",
   "metadata": {},
   "source": [
    "The results above show the highest each of the models performed on all these metrics. As we can see, not that great overall. Deciding which one to use in your application will take some experimentation. "
   ]
  },
  {
   "cell_type": "markdown",
   "id": "ce38d942",
   "metadata": {},
   "source": [
    "## Using Ensemble Chains \n",
    "### Combining all three (or more) models together"
   ]
  },
  {
   "cell_type": "markdown",
   "id": "9feae035",
   "metadata": {},
   "source": [
    "What we can also do is combine all three models together to make three separate predictions and take the most chosen prediction (hard voting) or the highest overall combined probabilities (soft voting). This usually performs better than a single model (but not always). "
   ]
  },
  {
   "cell_type": "code",
   "execution_count": 51,
   "id": "e74e872d",
   "metadata": {},
   "outputs": [],
   "source": [
    "from sklearn.ensemble import VotingClassifier # Import used to do this operation"
   ]
  },
  {
   "cell_type": "code",
   "execution_count": 52,
   "id": "ac7f66e8",
   "metadata": {},
   "outputs": [],
   "source": [
    "from sklearn.svm import SVC # Need to use a slightly different Support Vector Machine for this method"
   ]
  },
  {
   "cell_type": "markdown",
   "id": "ed820a3f",
   "metadata": {},
   "source": [
    "**Hard Voting** <br>\n",
    "**MultiOutputClassifier**"
   ]
  },
  {
   "cell_type": "code",
   "execution_count": 53,
   "id": "2c73bf9b",
   "metadata": {},
   "outputs": [
    {
     "name": "stdout",
     "output_type": "stream",
     "text": [
      "Accuracy \t\t0.01\n",
      "Precision (weighted) \t0.47\n",
      "Recall (weighted) \t0.48\n",
      "F1-score (weighted) \t0.45\n"
     ]
    }
   ],
   "source": [
    "## Defining your models\n",
    "clf1 = LogisticRegression(random_state=1, class_weight='balanced')\n",
    "clf2 = MultinomialNB()\n",
    "clf3 = SVC(random_state=43, kernel='rbf', probability=True)\n",
    "\n",
    "### Putting the models together in the VotingClassifier wrapper\n",
    "eclf = VotingClassifier(estimators=[\n",
    "    ('lr', clf1), # Passing in a label and the model in a tuple\n",
    "    ('gnb', clf2), \n",
    "    ('svm', clf3)],\n",
    "    voting='hard')\n",
    "\n",
    "### Passing in the voting classifier model\n",
    "model = MultiOutputClassifier(eclf, n_jobs=1)\n",
    "model.fit(cv_clean.transform(X_train_clean), y_train)\n",
    "y_pred = model.predict(cv_clean.transform(X_test_clean))\n",
    "smaller_classification_report(y_test, y_pred)"
   ]
  },
  {
   "cell_type": "markdown",
   "id": "4875f3f0",
   "metadata": {},
   "source": [
    "**Soft Voting**<br>\n",
    "**MultiOutputClassifier**"
   ]
  },
  {
   "cell_type": "code",
   "execution_count": 54,
   "id": "9efdd4b8",
   "metadata": {},
   "outputs": [
    {
     "name": "stdout",
     "output_type": "stream",
     "text": [
      "Accuracy \t\t0.01\n",
      "Precision (weighted) \t0.48\n",
      "Recall (weighted) \t0.49\n",
      "F1-score (weighted) \t0.45\n"
     ]
    }
   ],
   "source": [
    "clf1 = LogisticRegression(random_state=1, class_weight='balanced')\n",
    "clf2 = MultinomialNB()\n",
    "clf3 = SVC(random_state=43, kernel='rbf', probability=True)\n",
    "\n",
    "eclf = VotingClassifier(estimators=[\n",
    "    ('lr', clf1), \n",
    "    ('gnb', clf2), \n",
    "    ('svm', clf3)],\n",
    "    voting='soft')\n",
    "\n",
    "model = MultiOutputClassifier(eclf, n_jobs=1)\n",
    "model.fit(cv_clean.transform(X_train_clean), y_train)\n",
    "y_pred = model.predict(cv_clean.transform(X_test_clean))\n",
    "smaller_classification_report(y_test, y_pred)"
   ]
  },
  {
   "cell_type": "markdown",
   "id": "63baacb2",
   "metadata": {},
   "source": [
    "**Hard Voting**<br>\n",
    "**ClassifierChain**"
   ]
  },
  {
   "cell_type": "code",
   "execution_count": 55,
   "id": "82383f55",
   "metadata": {},
   "outputs": [
    {
     "name": "stdout",
     "output_type": "stream",
     "text": [
      "Accuracy \t\t0.01\n",
      "Precision (weighted) \t0.49\n",
      "Recall (weighted) \t0.51\n",
      "F1-score (weighted) \t0.46\n"
     ]
    }
   ],
   "source": [
    "clf1 = LogisticRegression(random_state=1, class_weight='balanced')\n",
    "clf2 = MultinomialNB()\n",
    "clf3 = SVC(random_state=43, kernel='rbf', probability=True)\n",
    "\n",
    "eclf = VotingClassifier(estimators=[\n",
    "    ('lr', clf1),  \n",
    "    ('gnb', clf2), \n",
    "    ('svm', clf3)],\n",
    "    voting='hard')\n",
    "\n",
    "model = ClassifierChain(eclf,order='random', random_state=0)\n",
    "model.fit(cv_clean.transform(X_train_clean), y_train)\n",
    "y_pred = model.predict(cv_clean.transform(X_test_clean))\n",
    "smaller_classification_report(y_test, y_pred)"
   ]
  },
  {
   "cell_type": "markdown",
   "id": "620d07da",
   "metadata": {},
   "source": [
    "**Soft Voting**<br>\n",
    "**ClassifierChain**"
   ]
  },
  {
   "cell_type": "code",
   "execution_count": 56,
   "id": "3b24ce92",
   "metadata": {},
   "outputs": [
    {
     "name": "stdout",
     "output_type": "stream",
     "text": [
      "Accuracy \t\t0.01\n",
      "Precision (weighted) \t0.52\n",
      "Recall (weighted) \t0.51\n",
      "F1-score (weighted) \t0.47\n"
     ]
    }
   ],
   "source": [
    "clf1 = LogisticRegression(random_state=1, class_weight='balanced')\n",
    "clf2 = MultinomialNB()\n",
    "clf3 = SVC(random_state=43, kernel='rbf', probability=True)\n",
    "\n",
    "eclf = VotingClassifier(estimators=[\n",
    "    ('lr', clf1), \n",
    "    ('gnb', clf2), \n",
    "    ('svm', clf3)],\n",
    "    voting='soft')\n",
    "\n",
    "model = ClassifierChain(eclf,order='random', random_state=0)\n",
    "model.fit(cv_clean.transform(X_train_clean), y_train)\n",
    "y_pred = model.predict(cv_clean.transform(X_test_clean))\n",
    "smaller_classification_report(y_test, y_pred)"
   ]
  },
  {
   "cell_type": "markdown",
   "id": "f8e6e461",
   "metadata": {},
   "source": [
    "#### Training with all the same model"
   ]
  },
  {
   "cell_type": "markdown",
   "id": "2de8f82e",
   "metadata": {},
   "source": [
    "**Soft Voting** <br>\n",
    "**ClassifierChain** <br>\n",
    "**All Logistic Regression** <br>\n",
    "**tfidf** <br>"
   ]
  },
  {
   "cell_type": "code",
   "execution_count": 57,
   "id": "1d64812f",
   "metadata": {},
   "outputs": [
    {
     "name": "stdout",
     "output_type": "stream",
     "text": [
      "Accuracy \t\t0.02\n",
      "Precision (weighted) \t0.47\n",
      "Recall (weighted) \t0.54\n",
      "F1-score (weighted) \t0.49\n"
     ]
    }
   ],
   "source": [
    "clf1 = LogisticRegression(class_weight='balanced') # Note i didn't specify a random_state\n",
    "clf2 = LogisticRegression(class_weight='balanced')\n",
    "clf3 = LogisticRegression(class_weight='balanced')\n",
    "clf4 = LogisticRegression(class_weight='balanced')\n",
    "clf5 = LogisticRegression(class_weight='balanced')\n",
    "clf6 = LogisticRegression(class_weight='balanced')\n",
    "clf7 = LogisticRegression(class_weight='balanced')\n",
    "\n",
    "eclf = VotingClassifier(estimators=[\n",
    "    ('lr1', clf1), \n",
    "    ('lr2', clf2),\n",
    "    ('lr3', clf3),\n",
    "    ('lr4', clf4),\n",
    "    ('lr5', clf5),\n",
    "    ('lr6', clf6),\n",
    "    ('lr7', clf7)],\n",
    "    voting='soft')\n",
    "\n",
    "model = ClassifierChain(eclf, order='random', random_state=0)\n",
    "model.fit(tfidf_clean.transform(X_train_clean), y_train)\n",
    "y_pred = model.predict(tfidf_clean.transform(X_test_clean))\n",
    "smaller_classification_report(y_test, y_pred)"
   ]
  },
  {
   "cell_type": "markdown",
   "id": "4fe29446",
   "metadata": {},
   "source": [
    "**Soft Voting <br>\n",
    "MultiOutputClassifier <br>\n",
    "All Logistic Regression <br>\n",
    "tfidf**"
   ]
  },
  {
   "cell_type": "code",
   "execution_count": 58,
   "id": "8ffa41dd",
   "metadata": {},
   "outputs": [
    {
     "name": "stdout",
     "output_type": "stream",
     "text": [
      "Accuracy \t\t0.01\n",
      "Precision (weighted) \t0.49\n",
      "Recall (weighted) \t0.51\n",
      "F1-score (weighted) \t0.5\n"
     ]
    }
   ],
   "source": [
    "clf1 = LogisticRegression(class_weight='balanced')\n",
    "clf2 = LogisticRegression(class_weight='balanced')\n",
    "clf3 = LogisticRegression(class_weight='balanced')\n",
    "clf4 = LogisticRegression(class_weight='balanced')\n",
    "clf5 = LogisticRegression(class_weight='balanced')\n",
    "clf6 = LogisticRegression(class_weight='balanced')\n",
    "clf7 = LogisticRegression(class_weight='balanced')\n",
    "\n",
    "eclf = VotingClassifier(estimators=[\n",
    "    ('lr1', clf1), \n",
    "    ('lr2', clf2),\n",
    "    ('lr3', clf3),\n",
    "    ('lr4', clf4),\n",
    "    ('lr5', clf5),\n",
    "    ('lr6', clf6),\n",
    "    ('lr7', clf7)],\n",
    "    voting='soft')\n",
    "\n",
    "model = MultiOutputClassifier(eclf)\n",
    "model.fit(cv_clean.transform(X_train_clean), y_train)\n",
    "y_pred = model.predict(cv_clean.transform(X_test_clean))\n",
    "smaller_classification_report(y_test, y_pred)"
   ]
  },
  {
   "cell_type": "markdown",
   "id": "ba516e59",
   "metadata": {},
   "source": [
    "### Take away results"
   ]
  },
  {
   "cell_type": "markdown",
   "id": "a11bca83",
   "metadata": {},
   "source": [
    "Doing a single model may be fine, but you can stack multiple of the same model and have them all predict on the same label, it come sometimes lead to a higher overall performance. "
   ]
  },
  {
   "cell_type": "markdown",
   "id": "8e8f2839",
   "metadata": {},
   "source": [
    "### Random Search to find best Logistic Regression Model Hyperparameters"
   ]
  },
  {
   "cell_type": "markdown",
   "id": "c5fbdda3",
   "metadata": {},
   "source": [
    "Because the best performing model was logistic regression, we can try to find the best hyperparameters for logistic regression. <br>\n",
    "*Note: if you're unsure what to search because you don't know what it means, just google what other people used for random search and grid search hyperparameters*"
   ]
  },
  {
   "cell_type": "code",
   "execution_count": 59,
   "id": "4da182c9",
   "metadata": {},
   "outputs": [],
   "source": [
    "from sklearn.model_selection import RandomizedSearchCV # Import for random search\n",
    "import time as time\n",
    "from scipy.stats import loguniform # Generates a value that follows the log scale"
   ]
  },
  {
   "cell_type": "code",
   "execution_count": 60,
   "id": "eaf9fad2",
   "metadata": {},
   "outputs": [
    {
     "name": "stdout",
     "output_type": "stream",
     "text": [
      "Fitting 3 folds for each of 30 candidates, totalling 90 fits\n",
      "Runtime of the random search is 101.56 seconds\n",
      "\n",
      "#### Best Parameters ####\n",
      "estimator__C = 0.2781184057506849\n",
      "estimator__class_weight = None\n",
      "estimator__penalty = none\n",
      "estimator__solver = sag\n",
      "\n",
      "#### Best Metrics ####\n",
      "Accuracy \t\t0.02\n",
      "Precision (weighted) \t0.5\n",
      "Recall (weighted) \t0.5\n",
      "F1-score (weighted) \t0.48\n",
      "\n",
      " None\n"
     ]
    }
   ],
   "source": [
    "# Defining the logistic regression model\n",
    "model = MultiOutputClassifier(LogisticRegression())\n",
    "\n",
    "# Defining a dictionary to store the parameters\n",
    "lr_params = dict()\n",
    "lr_params['estimator__solver'] = ['sag', 'saga', 'lbfgs']\n",
    "lr_params['estimator__penalty'] = ['none', 'l1', 'l2', 'elasticnet']\n",
    "lr_params['estimator__C'] = loguniform(1e-5, 100)\n",
    "lr_params['estimator__class_weight'] = [None, 'balanced']\n",
    "\n",
    "\n",
    "lr_rs = RandomizedSearchCV(model, # Mode\n",
    "                          lr_params, # Search Parameters\n",
    "                          cv=3, # Number of cross validations\n",
    "                          n_jobs=1, # Number of CPU cores\n",
    "                          n_iter=30, # How many different models to try\n",
    "                          scoring='f1', # What to optimize on (scoring metric)\n",
    "                          verbose=1) # To see what the model is doing \n",
    "\n",
    "### Start the gridsearch\n",
    "start = time.time()\n",
    "lr_rs.fit(tfidf_clean.transform(X_train_clean), y_train) # Training\n",
    "end = time.time()\n",
    "print(\"Runtime of the random search is {:.2f} seconds\".format(end - start))\n",
    "\n",
    "### Save the parameters\n",
    "lr_best_parameters = lr_rs.best_params_\n",
    "\n",
    "### Print the results\n",
    "print('\\n#### Best Parameters ####')\n",
    "[print(key, value, sep=' = ') for key, value in lr_rs.best_params_.items()]\n",
    "\n",
    "### Make predictions\n",
    "y_pred = lr_rs.predict(tfidf_clean.transform(X_test_clean))\n",
    "print('\\n#### Best Metrics ####')\n",
    "print('\\n',smaller_classification_report(y_test, y_pred))"
   ]
  },
  {
   "cell_type": "markdown",
   "id": "36486874",
   "metadata": {},
   "source": [
    "## Looking at the models predictions"
   ]
  },
  {
   "cell_type": "markdown",
   "id": "9c252168",
   "metadata": {},
   "source": [
    "Using the best parameters from the previous model"
   ]
  },
  {
   "cell_type": "code",
   "execution_count": 61,
   "id": "afac51e2",
   "metadata": {},
   "outputs": [
    {
     "data": {
      "text/plain": [
       "{'C': 0.2781184057506849,\n",
       " 'class_weight': None,\n",
       " 'dual': False,\n",
       " 'fit_intercept': True,\n",
       " 'intercept_scaling': 1,\n",
       " 'l1_ratio': None,\n",
       " 'max_iter': 100,\n",
       " 'multi_class': 'auto',\n",
       " 'n_jobs': None,\n",
       " 'penalty': 'none',\n",
       " 'random_state': None,\n",
       " 'solver': 'sag',\n",
       " 'tol': 0.0001,\n",
       " 'verbose': 0,\n",
       " 'warm_start': False}"
      ]
     },
     "execution_count": 61,
     "metadata": {},
     "output_type": "execute_result"
    }
   ],
   "source": [
    "lr_rs.best_estimator_.estimator.get_params()"
   ]
  },
  {
   "cell_type": "code",
   "execution_count": 62,
   "id": "4db4e589",
   "metadata": {},
   "outputs": [
    {
     "data": {
      "text/plain": [
       "MultiOutputClassifier(estimator=LogisticRegression(C=0.2781184057506849,\n",
       "                                                   penalty='none',\n",
       "                                                   solver='sag'))"
      ]
     },
     "execution_count": 62,
     "metadata": {},
     "output_type": "execute_result"
    }
   ],
   "source": [
    "# Creating the model and training it on the training data\n",
    "model = MultiOutputClassifier(LogisticRegression(**lr_rs.best_estimator_.estimator.get_params()))\n",
    "model.fit(cv_clean.transform(X_train_clean), y_train)"
   ]
  },
  {
   "cell_type": "markdown",
   "id": "90fb5c9b",
   "metadata": {},
   "source": [
    "You can keep running the cell below and it will make random predictions"
   ]
  },
  {
   "cell_type": "code",
   "execution_count": 63,
   "id": "558157d4",
   "metadata": {},
   "outputs": [
    {
     "name": "stdout",
     "output_type": "stream",
     "text": [
      "##### Description #####\n",
      "various things happened got ability god reincarnated another world watched highspec family super ordinary fully enjoyed world life using ability received god daily life fluffing petting fantasy animals shady movements led nose god ill best various things cheatlike comrades\n",
      "\n",
      "##### Genre's predicted #####\n",
      "Action\n",
      "Adventure\n",
      "Fantasy\n",
      "Harem\n",
      "Shounen\n",
      "##### Actual Genre's #####\n",
      "Action\n",
      "Adventure\n",
      "Fantasy\n",
      "Martial Arts\n",
      "Shounen\n"
     ]
    }
   ],
   "source": [
    "# Getting a random example\n",
    "random_example = np.random.choice(df_test.shape[0])\n",
    "\n",
    "print(\"##### Description #####\", df_test['descriptions_cleaned'].iloc[random_example], \"\", sep=\"\\n\")\n",
    "\n",
    "predictions = model.predict(cv_clean.transform([df_test['descriptions_cleaned'].iloc[random_example]]))\n",
    "print('##### Genre\\'s predicted #####')\n",
    "for i in range(len(predictions[0])):\n",
    "    if int(predictions[0][i]) == 1:\n",
    "        print(genres_set[i])\n",
    "        \n",
    "print('##### Actual Genre\\'s #####')\n",
    "for genre in df_test[[*genres_set]].iloc[random_example][df_test[[*genres_set]].iloc[random_example] == 1].index:\n",
    "    print(genre)"
   ]
  },
  {
   "cell_type": "markdown",
   "id": "2a6096ae",
   "metadata": {},
   "source": [
    "## Conclusion"
   ]
  },
  {
   "cell_type": "markdown",
   "id": "17b52abf",
   "metadata": {},
   "source": [
    "The main take-aways are that there doing multi-label classification problems just require a few extra steps compared to multi-label classification. "
   ]
  },
  {
   "cell_type": "markdown",
   "id": "35f6ef37",
   "metadata": {},
   "source": [
    "There are two different wrapper methods that we use to do multi-label:\n",
    "- **MultiOutputClassifier**\n",
    "- **ClassifierChain**"
   ]
  },
  {
   "cell_type": "markdown",
   "id": "4175f6d9",
   "metadata": {},
   "source": [
    "When analyzing the metrics, it's sometimes not good to look at the accuracy because the accuracy can be a really low number if there are too many labels to predict. In this notebook, there were 25 labels that could be predicted. So wrongly predicting one of them counts against accuracy. Instead, you may want to look at the Precision, Recall or F1-score as a better indicator on how your model is doing. "
   ]
  },
  {
   "cell_type": "markdown",
   "id": "88d5350b",
   "metadata": {},
   "source": [
    "You can also stack models on top of each other by using the **VotingClassifier**. This allows you to train multiple independent models (or the same one) to make a prediction on the same value. This can sometimes lead to a better performance than just a single model. The two main options when using **VotingClassifier** wrapper are:\n",
    "- Hard Voting\n",
    "    - Predicting the class based on the most amount of votes\n",
    "- Soft Voting\n",
    "    - Predicting the class based on the highest overall combined probabilities"
   ]
  },
  {
   "cell_type": "markdown",
   "id": "618ec2e5",
   "metadata": {},
   "source": [
    "Finally, you can use something like a **RandomizedSearchCV** with the *MultiOutputClassifier* or *ClassifierChain* to further fine-tune your models to make sure they are performing the best. "
   ]
  },
  {
   "cell_type": "markdown",
   "id": "e6384378",
   "metadata": {},
   "source": [
    "<hr>"
   ]
  },
  {
   "cell_type": "markdown",
   "id": "c3b7ad4b",
   "metadata": {},
   "source": [
    "### Reminders\n",
    "\n",
    "Don't forget to process the text data by cleaning and encoding it. <br>\n",
    "Don't forget to split your dataset into training and testing sets. <br>\n",
    "Train your model with the training data and test on the testing data. "
   ]
  },
  {
   "cell_type": "markdown",
   "id": "4c14f5e9",
   "metadata": {},
   "source": [
    "<hr>"
   ]
  },
  {
   "cell_type": "markdown",
   "id": "84c57d26",
   "metadata": {},
   "source": [
    "### Other datasets to try this kind of problem on"
   ]
  },
  {
   "cell_type": "markdown",
   "id": "1e4debc6",
   "metadata": {},
   "source": [
    "https://www.kaggle.com/shivanandmn/multilabel-classification-dataset?select=train.csv <br>\n",
    "- Classify the paper abstract with 6 different labels<br>\n",
    "\n",
    "https://www.kaggle.com/urbanbricks/wikipedia-promotional-articles?select=promotional.csv<br>\n",
    "- Classify the promotional article's tones<br>"
   ]
  }
 ],
 "metadata": {
  "kernelspec": {
   "display_name": "Python 3",
   "language": "python",
   "name": "python3"
  },
  "language_info": {
   "codemirror_mode": {
    "name": "ipython",
    "version": 3
   },
   "file_extension": ".py",
   "mimetype": "text/x-python",
   "name": "python",
   "nbconvert_exporter": "python",
   "pygments_lexer": "ipython3",
   "version": "3.7.11"
  }
 },
 "nbformat": 4,
 "nbformat_minor": 5
}
